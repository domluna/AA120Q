{
 "cells": [
  {
   "cell_type": "markdown",
   "metadata": {},
   "source": [
    "# Assignment 4"
   ]
  },
  {
   "cell_type": "markdown",
   "metadata": {},
   "source": [
    "Your task is to write code for learning the parameters of an aircraft encounter model from data.\n",
    "Using the provided airplane trajectories you will:\n",
    "\n",
    "1.  Learn an initial scene model\n",
    "2.  Learn an uncorrelated dynamics model\n",
    "\n",
    "The file [flights.txt](#) is formatted identically to the previous assignment.\n",
    "Use the provided data to learn your models.\n",
    "\n",
    "Turn in your completed julia notebook, and any associated code files you wrote to Coursework.\n",
    "Do not use any external code or Julia packages other than those used in the class materials."
   ]
  },
  {
   "cell_type": "markdown",
   "metadata": {},
   "source": [
    "## Milestone One: Set Up"
   ]
  },
  {
   "cell_type": "code",
   "execution_count": 2,
   "metadata": {},
   "outputs": [
    {
     "data": {
      "text/plain": [
       "Plots.PlotlyJSBackend()"
      ]
     },
     "execution_count": 2,
     "metadata": {},
     "output_type": "execute_result"
    }
   ],
   "source": [
    "using AA120Q\n",
    "plotlyjs()"
   ]
  },
  {
   "cell_type": "markdown",
   "metadata": {},
   "source": [
    "### Load the Dataset"
   ]
  },
  {
   "cell_type": "markdown",
   "metadata": {},
   "source": [
    "Now, you will need to load all the the datasets provided by initial.txt and transition.txt. The commands and outputs are provided below. "
   ]
  },
  {
   "cell_type": "code",
   "execution_count": 2,
   "metadata": {},
   "outputs": [
    {
     "data": {
      "text/plain": [
       "2-element Array{AbstractString,1}:\n",
       " \"large\"\n",
       " \"small\""
      ]
     },
     "execution_count": 2,
     "metadata": {},
     "output_type": "execute_result"
    }
   ],
   "source": [
    "list_datasets()"
   ]
  },
  {
   "cell_type": "code",
   "execution_count": 3,
   "metadata": {},
   "outputs": [
    {
     "data": {
      "text/html": [
       "<table class=\"data-frame\"><tr><th></th><th>id</th><th>A</th><th>C1</th><th>C2</th></tr><tr><th>1</th><td>1</td><td>4</td><td>2</td><td>2</td></tr><tr><th>2</th><td>2</td><td>4</td><td>2</td><td>2</td></tr><tr><th>3</th><td>3</td><td>2</td><td>2</td><td>2</td></tr></table>"
      ],
      "text/plain": [
       "3×4 DataFrames.DataFrame\n",
       "│ Row │ id │ A │ C1 │ C2 │\n",
       "├─────┼────┼───┼────┼────┤\n",
       "│ 1   │ 1  │ 4 │ 2  │ 2  │\n",
       "│ 2   │ 2  │ 4 │ 2  │ 2  │\n",
       "│ 3   │ 3  │ 2 │ 2  │ 2  │"
      ]
     },
     "execution_count": 3,
     "metadata": {},
     "output_type": "execute_result"
    }
   ],
   "source": [
    "flights = get_dataset(\"small\")\n",
    "flights"
   ]
  },
  {
   "cell_type": "markdown",
   "metadata": {},
   "source": [
    "## Milestone Two: Initial Conditions Model"
   ]
  },
  {
   "cell_type": "markdown",
   "metadata": {},
   "source": [
    "Here we demonstrate how to implement a simple model.\n",
    "\n",
    "We define the encounter with just the intitial speeds $v1$ and $v2$, and $u1$ and $u2$. We can consider the two planes as points in an xy-plane moving towards each other. \n",
    "\n",
    "You need to develop your own initial conditions model, then write your code here to implement the data structure for the probabilty distribution. We have provided the following starter code and would like you to use the speeds and positions of the aircraft at t=40s and go back linearly to determine intial positions at t=0s, using the given speeds for both aircraft at 40s. "
   ]
  },
  {
   "cell_type": "markdown",
   "metadata": {},
   "source": [
    "# make new picture"
   ]
  },
  {
   "cell_type": "markdown",
   "metadata": {},
   "source": [
    "This simple model thus defines a probability distribution as follows:\n",
    "\n",
    "$$P(\\Delta x, \\Delta y, \\Delta u, \\Delta v)$$\n",
    "\n",
    "First, use categorical distributions for everything (**Pull Raw Data**), and discretize continuous variables into bins (**Discretize Dataset**).\n",
    "\n",
    "Then train a discrete Bayesian network over the discrete dataset (**Fit Distributions**).\n",
    "We will repeat this process for the Dynamics Model."
   ]
  },
  {
   "cell_type": "markdown",
   "metadata": {},
   "source": [
    "### Pulling the Raw Data"
   ]
  },
  {
   "cell_type": "code",
   "execution_count": 1,
   "metadata": {},
   "outputs": [
    {
     "ename": "LoadError",
     "evalue": "\u001b[91mUndefVarError: nrow not defined\u001b[39m",
     "output_type": "error",
     "traceback": [
      "\u001b[91mUndefVarError: nrow not defined\u001b[39m",
      ""
     ]
    }
   ],
   "source": [
    "#Get the number of rows needed\n",
    "N = nrow(initial)\n",
    "\n",
    "#Initializes a data frame to store the inital conditions\n",
    "data_initial = DataFrame(\n",
    "    u1=Array(Float64, N),\n",
    "    u2=Array(Float64, N),\n",
    "    v1=Array(Float64, N),\n",
    "    v2=Array(Float64, N)\n",
    ")\n",
    "\n",
    "j = 1\n",
    "flightids = flights[:id]\n",
    "for id in 1 : nrow(initial)\n",
    "    j = findnext(flightids, id, j)\n",
    "    \n",
    "    data_initial[id, :x1] = flights[j,:x1]\n",
    "    data_initial[id, :y1] = flights[j,:y1]\n",
    "    data_initial[id, :x2] = flights[j,:x2]\n",
    "    data_initial[id, :y2] = flights[j,:y2]\n",
    "    data_initial[id, :u1] = flights[j,:u1]\n",
    "    data_initial[id, :u2] = flights[j,:u2]\n",
    "    data_initial[id, :v1] = flights[j,:v1]\n",
    "    data_initial[id, :v2] = flights[j,:v2]\n",
    "end\n",
    "\n",
    "data_initial[1:3,:]"
   ]
  },
  {
   "cell_type": "markdown",
   "metadata": {},
   "source": [
    "### Discretize Dataset"
   ]
  },
  {
   "cell_type": "markdown",
   "metadata": {},
   "source": [
    "Is there any means of tuning the discretization of the data? "
   ]
  },
  {
   "cell_type": "code",
   "execution_count": 1,
   "metadata": {},
   "outputs": [
    {
     "name": "stderr",
     "output_type": "stream",
     "text": [
      "\u001b[1m\u001b[34mINFO: Precompiling module Discretizers.\n",
      "\u001b[0m"
     ]
    },
    {
     "ename": "LoadError",
     "evalue": "UndefVarError: data_initial not defined",
     "output_type": "error",
     "traceback": [
      "UndefVarError: data_initial not defined",
      ""
     ]
    }
   ],
   "source": [
    "using Discretizers\n",
    "\n",
    "D = Dict{Symbol,LinearDiscretizer}()\n",
    "D[:v] = LinearDiscretizer(Float64[0,30,60,90,120,150,180]) # [m/s]\n",
    "D[:u] = LinearDiscretizer(Float64[150,365,915,1520,3800]) # [m/s]\n",
    "\n",
    "data_initial[:u1] = encode(D[:u], data_initial[:u1])\n",
    "data_initial[:u2] = encode(D[:u], data_initial[:u2])\n",
    "data_initial[:v1] = encode(D[:v], data_initial[:v1])\n",
    "data_initial[:v2] = encode(D[:v], data_initial[:v2])\n",
    "\n",
    "ncategories = [4, 2, 2, nlabels(D[:v]), nlabels(D[:v]), nlabels(D[:u]), nlabels(D[:u])]\n",
    "\n",
    "data_initial[1:3,:]"
   ]
  },
  {
   "cell_type": "markdown",
   "metadata": {},
   "source": [
    "###  Fit Distributions"
   ]
  },
  {
   "cell_type": "code",
   "execution_count": 3,
   "metadata": {},
   "outputs": [
    {
     "ename": "LoadError",
     "evalue": "ArgumentError: Module BayesNets not found in current path.\nRun `Pkg.add(\"BayesNets\")` to install the BayesNets package.",
     "output_type": "error",
     "traceback": [
      "ArgumentError: Module BayesNets not found in current path.\nRun `Pkg.add(\"BayesNets\")` to install the BayesNets package.",
      "",
      " in require(::Symbol) at ./loading.jl:365",
      " in require(::Symbol) at /Applications/JuliaPro-0.5.2.2.app/Contents/Resources/julia/Contents/Resources/julia/lib/julia/sys.dylib:?"
     ]
    }
   ],
   "source": [
    "using BayesNets\n",
    "\n",
    "params = GreedyHillClimbing(ScoreComponentCache(data_initial), max_n_parents=3, \n",
    "prior=UniformPrior())\n",
    "bn_initial = fit(DiscreteBayesNet, data_initial, params, ncategories=ncategories)"
   ]
  },
  {
   "cell_type": "markdown",
   "metadata": {},
   "source": [
    "### Sampling"
   ]
  },
  {
   "cell_type": "markdown",
   "metadata": {},
   "source": [
    "#### Sample from Initial to get Initial Scene\n",
    "\n",
    "We now have to implement `Base.rand(model)` which should generate Encounters.\n"
   ]
  },
  {
   "cell_type": "markdown",
   "metadata": {},
   "source": [
    "`sample_initial` should take in an EncounterModel and produce the airspace class, the aircraft categories, and two AircraftStates"
   ]
  },
  {
   "cell_type": "code",
   "execution_count": 1,
   "metadata": {},
   "outputs": [
    {
     "ename": "LoadError",
     "evalue": "\u001b[91mUndefVarError: DiscreteBayesNet not defined\u001b[39m",
     "output_type": "error",
     "traceback": [
      "\u001b[91mUndefVarError: DiscreteBayesNet not defined\u001b[39m",
      ""
     ]
    }
   ],
   "source": [
    "struct DiscretizedBayesNet\n",
    "    dbn::DiscreteBayesNet\n",
    "    discs::Dict{Symbol, LinearDiscretizer}\n",
    "end"
   ]
  },
  {
   "cell_type": "code",
   "execution_count": 2,
   "metadata": {},
   "outputs": [
    {
     "ename": "LoadError",
     "evalue": "\u001b[91mUndefVarError: DiscretizedBayesNet not defined\u001b[39m",
     "output_type": "error",
     "traceback": [
      "\u001b[91mUndefVarError: DiscretizedBayesNet not defined\u001b[39m",
      ""
     ]
    }
   ],
   "source": [
    "function Base.rand(bn::DiscretizedBayesNet)\n",
    "    sample = rand(model.dbn) # pull from discrete Bayes net\n",
    "    \n",
    "    # convert discrete samples to continuous samples\n",
    "    for (sym, disc) in bn.discs\n",
    "        sample[sym] = decode(disc, sample[sym]) \n",
    "    end\n",
    "\n",
    "    return sample\n",
    "end"
   ]
  },
  {
   "cell_type": "markdown",
   "metadata": {},
   "source": [
    "#### Sample Traces\n",
    "\n",
    "`sample_transition` takes a model and two aircraft states and returns the actions for each aircraft at that timestep."
   ]
  },
  {
   "cell_type": "code",
   "execution_count": 3,
   "metadata": {},
   "outputs": [
    {
     "ename": "LoadError",
     "evalue": "UndefVarError: AA120Q not defined",
     "output_type": "error",
     "traceback": [
      "UndefVarError: AA120Q not defined",
      ""
     ]
    }
   ],
   "source": [
    "function AA120Q.sample_transition(s1::AircraftState, s2::AircraftState, model::DemoEncounterModel, params::EncounterSimParams)\n",
    "    \n",
    "    v = rand(model.transition) # [du, dv]\n",
    "    a1 = AircraftAction(v[1], v[2])\n",
    "\n",
    "    v = rand(model.transition) # [du, dv]\n",
    "    a2 = AircraftAction(v[1], v[2])\n",
    "    \n",
    "    (a1, a2)\n",
    "end\n",
    "\n",
    "enc = rand(model, DEFAULT_SIM_PARAMS)\n",
    "plot_encounter(enc)"
   ]
  },
  {
   "cell_type": "markdown",
   "metadata": {},
   "source": [
    "## Milestone Three: Dynamics Model"
   ]
  },
  {
   "cell_type": "markdown",
   "metadata": {},
   "source": [
    "Now lets train a simple uncorrelated dynamics model. It represents:\n",
    "\n",
    "$$P(\\dot{u}, \\dot{v} \\mid \\Delta x, \\Delta y, \\Delta u, \\Delta v)$$\n",
    "\n",
    "We will train:\n",
    "\n",
    "$$P(\\dot{u}, \\dot{v}, \\Delta x, \\Delta y, \\Delta u, \\Delta v)$$\n",
    "\n",
    "Again, we would like to improve the model like how we did with the intial conditions model. Here are a few ways of improving the given model:\n",
    "\n",
    "1. Add additional three conditional variables: acceleration, climbrate, and turnrate\n",
    "             \n",
    "2. Include other variables (current altitude, aircraft type, etc.)\n",
    "\n",
    "Develop your own dynamics model of probability dsitribution using a Discrete Bayesian.\n",
    "\n",
    "Use the following code as a starting point. You have until week 5 to work on it."
   ]
  },
  {
   "cell_type": "markdown",
   "metadata": {},
   "source": [
    "### Fit Distributions"
   ]
  },
  {
   "cell_type": "code",
   "execution_count": 7,
   "metadata": {},
   "outputs": [
    {
     "data": {
      "image/svg+xml": [
       "<?xml version=\"1.0\" encoding=\"UTF-8\"?>\n",
       "<svg xmlns=\"http://www.w3.org/2000/svg\" xmlns:xlink=\"http://www.w3.org/1999/xlink\" width=\"164.718pt\" height=\"71.274pt\" viewBox=\"0 0 164.718 71.274\" version=\"1.1\">\n",
       "<defs>\n",
       "<g>\n",
       "<symbol overflow=\"visible\" id=\"glyph-1475506270208689-0-0\">\n",
       "<path style=\"stroke:none;\" d=\"\"/>\n",
       "</symbol>\n",
       "<symbol overflow=\"visible\" id=\"glyph-1475506270208689-0-1\">\n",
       "<path style=\"stroke:none;\" d=\"M 5.046875 -1.984375 C 5.03125 -2.203125 5.015625 -2.421875 4.96875 -2.625 C 4.859375 -3.015625 4.609375 -3.484375 4.34375 -3.796875 C 4.171875 -3.96875 4 -4.109375 3.9375 -4.140625 C 3.875 -4.09375 3.96875 -4.15625 4.046875 -4.234375 C 4.359375 -4.53125 4.625 -5.03125 4.625 -5.484375 C 4.625 -5.609375 4.609375 -5.734375 4.578125 -5.859375 C 4.5 -6.15625 4.265625 -6.546875 4.03125 -6.765625 C 3.671875 -7.09375 3.078125 -7.3125 2.609375 -7.3125 C 1.421875 -7.3125 0.640625 -5.796875 0.640625 -4.453125 L 0.640625 1.6875 C 0.65625 1.765625 0.90625 1.9375 0.96875 1.9375 L 1.015625 1.9375 C 1.0625 1.9375 1.3125 1.78125 1.3125 1.734375 L 1.296875 -1 L 0.953125 -0.90625 C 1.28125 -0.328125 1.96875 0.109375 2.65625 0.109375 C 3.21875 0.109375 3.921875 -0.125 4.34375 -0.5 C 4.734375 -0.859375 5.03125 -1.453125 5.046875 -1.984375 Z M 3.96875 -2.03125 C 3.96875 -1.578125 3.921875 -1.203125 3.625 -0.859375 C 3.328125 -0.53125 3.046875 -0.375 2.609375 -0.375 C 1.890625 -0.375 1.546875 -0.78125 1.359375 -1.5 C 1.328125 -1.65625 1.3125 -1.8125 1.3125 -1.984375 L 1.296875 -4.390625 C 1.3125 -5.65625 1.5625 -6.8125 2.65625 -6.8125 C 2.984375 -6.8125 3.171875 -6.703125 3.390625 -6.453125 C 3.515625 -6.296875 3.53125 -6.21875 3.578125 -6.03125 C 3.625 -5.875 3.640625 -5.703125 3.640625 -5.53125 C 3.640625 -5.15625 3.625 -4.875 3.375 -4.578125 C 3.3125 -4.515625 3.234375 -4.453125 3.25 -4.453125 C 3.09375 -4.515625 2.84375 -4.5625 2.609375 -4.5625 C 2.25 -4.5625 1.625 -4.421875 1.625 -4.15625 L 1.640625 -4.09375 C 1.6875 -3.84375 2.296875 -3.71875 2.65625 -3.71875 C 2.90625 -3.71875 3.140625 -3.765625 3.3125 -3.828125 C 3.375 -3.78125 3.515625 -3.65625 3.625 -3.5 C 3.78125 -3.296875 3.8125 -3.15625 3.875 -2.90625 C 3.953125 -2.625 3.96875 -2.328125 3.96875 -2.03125 Z M 3.015625 -4.28125 C 2.890625 -4.234375 2.734375 -4.203125 2.609375 -4.203125 C 2.375 -4.203125 2.265625 -4.0625 2.265625 -4.109375 C 2.28125 -4.203125 2.40625 -4.0625 2.65625 -4.0625 C 2.78125 -4.0625 2.90625 -4.046875 3.015625 -4.015625 Z M 3.015625 -4.28125 \"/>\n",
       "</symbol>\n",
       "<symbol overflow=\"visible\" id=\"glyph-1475506270208689-0-2\">\n",
       "<path style=\"stroke:none;\" d=\"M 6.546875 -0.734375 C 6.53125 -0.796875 6.265625 -0.96875 6.203125 -0.96875 C 6.140625 -0.96875 5.90625 -0.796875 5.90625 -0.734375 C 5.84375 -0.234375 5.796875 -0.15625 5.796875 -0.15625 L 5.65625 -0.375 C 5.359375 -0.375 5.359375 -1.015625 5.296875 -1.25 C 5.25 -1.46875 5.1875 -1.390625 5.25 -1.515625 C 5.90625 -2.6875 5.8125 -3.859375 5.8125 -3.859375 C 5.8125 -3.859375 5.640625 -4.1875 5.53125 -4.1875 C 5.4375 -4.1875 5.25 -4.015625 5.234375 -3.84375 C 5.21875 -3.203125 5.140625 -2.546875 4.8125 -1.96875 L 5.15625 -1.859375 L 5 -2.484375 C 4.609375 -4.046875 3.359375 -4.671875 2.625 -4.671875 C 1.25 -4.671875 0.09375 -3.109375 0.453125 -1.703125 C 0.671875 -0.78125 1.671875 0.109375 2.6875 0.109375 C 3.3125 0.109375 4.109375 -0.15625 4.515625 -0.5625 C 4.640625 -0.328125 5.25 0.109375 5.6875 0.109375 C 6.21875 0.109375 6.59375 -0.5625 6.546875 -0.734375 Z M 4.328125 -1.21875 C 3.65625 -0.453125 3.046875 -0.375 2.640625 -0.375 C 2.046875 -0.375 1.828125 -0.6875 1.671875 -1.328125 C 1.5625 -1.8125 1.546875 -2.890625 1.734375 -3.40625 C 2.03125 -4.125 2.3125 -4.1875 2.65625 -4.1875 C 3.65625 -4.1875 3.78125 -3.015625 3.96875 -2.234375 C 4.0625 -1.859375 4.203125 -1.28125 4.25 -1.140625 Z M 4.328125 -1.21875 \"/>\n",
       "</symbol>\n",
       "<symbol overflow=\"visible\" id=\"glyph-1475506270208689-0-3\">\n",
       "<path style=\"stroke:none;\" d=\"M 5.265625 -4.109375 L 5.265625 -4.578125 C 4.828125 -4.546875 4.546875 -4.53125 4.3125 -4.53125 L 3.25 -4.578125 L 3.25 -3.984375 C 3.8125 -3.984375 3.734375 -3.875 3.734375 -3.6875 C 3.734375 -3.59375 3.703125 -3.5625 3.671875 -3.453125 L 2.65625 -0.90625 L 3.046875 -0.90625 L 1.9375 -3.6875 C 1.875 -3.8125 1.8125 -3.765625 1.8125 -3.765625 L 1.875 -3.859375 C 1.875 -4.109375 2.0625 -3.984375 2.4375 -3.984375 L 2.4375 -4.578125 L 1.15625 -4.53125 C 0.890625 -4.53125 0.484375 -4.546875 -0.015625 -4.578125 L -0.015625 -3.984375 C 0.8125 -3.984375 0.65625 -4.0625 0.78125 -3.75 L 2.21875 -0.203125 C 2.28125 -0.0625 2.5 0.109375 2.625 0.109375 C 2.765625 0.109375 3 -0.109375 3.046875 -0.203125 L 4.34375 -3.453125 C 4.4375 -3.671875 4.40625 -3.984375 5.265625 -3.984375 Z M 5.265625 -4.109375 \"/>\n",
       "</symbol>\n",
       "<symbol overflow=\"visible\" id=\"glyph-1475506270208689-0-4\">\n",
       "<path style=\"stroke:none;\" d=\"M 4.46875 -2 L 4.046875 -2 C 3.984375 -1.5625 3.96875 -1.21875 3.875 -1.078125 C 3.796875 -1 3.28125 -1.03125 3.0625 -1.03125 L 1.640625 -1.03125 L 2.46875 -1.828125 C 4.015625 -3.203125 4.671875 -3.84375 4.671875 -4.828125 C 4.671875 -5.96875 3.578125 -6.90625 2.359375 -6.90625 C 1.234375 -6.90625 0.296875 -5.859375 0.296875 -4.96875 C 0.296875 -4.40625 1 -4.28125 1.03125 -4.28125 C 1.203125 -4.28125 1.75 -4.53125 1.75 -4.9375 C 1.75 -5.1875 1.359375 -5.59375 1.015625 -5.59375 C 0.9375 -5.59375 0.921875 -5.59375 1.171875 -5.671875 C 1.3125 -6.09375 1.65625 -6.328125 2.234375 -6.328125 C 3.140625 -6.328125 3.375 -5.65625 3.375 -4.828125 C 3.375 -4.03125 2.9375 -3.34375 2.375 -2.734375 L 0.46875 -0.59375 C 0.359375 -0.484375 0.296875 -0.375 0.296875 0 L 4.359375 0 L 4.6875 -2 Z M 4.46875 -2 \"/>\n",
       "</symbol>\n",
       "<symbol overflow=\"visible\" id=\"glyph-1475506270208689-0-5\">\n",
       "<path style=\"stroke:none;\" d=\"M 4.375 -0.125 L 4.375 -0.578125 L 3.859375 -0.578125 C 2.953125 -0.578125 3.125 -0.546875 3.125 -0.921875 L 3.125 -6.515625 C 3.125 -6.75 2.9375 -6.90625 2.59375 -6.90625 C 1.9375 -6.234375 1.203125 -6.265625 0.6875 -6.265625 L 0.6875 -5.6875 C 1.09375 -5.6875 1.8125 -5.734375 2 -5.828125 L 2 -0.921875 C 2 -0.5625 2.15625 -0.578125 1.265625 -0.578125 L 0.75 -0.578125 L 0.75 0.015625 C 1.296875 -0.03125 2.15625 -0.03125 2.5625 -0.03125 C 2.953125 -0.03125 3.828125 -0.03125 4.375 0.015625 Z M 4.375 -0.125 \"/>\n",
       "</symbol>\n",
       "<symbol overflow=\"visible\" id=\"glyph-1475506270208689-0-6\">\n",
       "<path style=\"stroke:none;\" d=\"M 3.828125 -3.921875 C 3.828125 -4.25 3.3125 -4.671875 2.890625 -4.671875 C 2.15625 -4.671875 1.609375 -3.875 1.46875 -3.4375 L 1.859375 -3.4375 L 1.859375 -4.6875 L 0.078125 -4.546875 L 0.078125 -3.984375 C 0.984375 -3.984375 0.859375 -4.046875 0.859375 -3.5625 L 0.859375 -0.890625 C 0.859375 -0.4375 0.953125 -0.578125 0.078125 -0.578125 L 0.078125 0.015625 L 1.421875 -0.03125 C 1.8125 -0.03125 2.28125 -0.03125 2.875 0.015625 L 2.875 -0.578125 L 2.46875 -0.578125 C 1.734375 -0.578125 1.90625 -0.546875 1.90625 -0.90625 L 1.90625 -2.4375 C 1.90625 -3.421875 2.140625 -4.1875 2.890625 -4.1875 C 2.953125 -4.1875 2.84375 -4.234375 2.625 -4.328125 C 2.96875 -4.4375 2.578125 -4.171875 2.578125 -3.921875 C 2.578125 -3.640625 2.984375 -3.359375 3.203125 -3.359375 C 3.375 -3.359375 3.828125 -3.609375 3.828125 -3.921875 Z M 3.828125 -3.921875 \"/>\n",
       "</symbol>\n",
       "<symbol overflow=\"visible\" id=\"glyph-1475506270208689-0-7\">\n",
       "<path style=\"stroke:none;\" d=\"M 6.828125 -2.453125 C 6.828125 -2.546875 6.625 -2.765625 6.5 -2.765625 C 6.390625 -2.765625 6.1875 -2.5625 6.1875 -2.46875 C 6.09375 -1.03125 5.234375 -0.359375 4.140625 -0.359375 C 3.53125 -0.359375 1.78125 -0.5625 1.78125 -3.53125 C 1.78125 -6.515625 3.53125 -6.71875 4.140625 -6.71875 C 5.21875 -6.71875 5.90625 -5.9375 6.109375 -4.484375 C 6.125 -4.34375 6.328125 -4.1875 6.46875 -4.1875 C 6.625 -4.1875 6.828125 -4.34375 6.828125 -4.5625 L 6.828125 -6.921875 C 6.828125 -7.09375 6.625 -7.296875 6.515625 -7.296875 C 6.484375 -7.296875 6.296875 -7.25 6.21875 -7.140625 L 5.828125 -6.5625 C 5.625 -6.765625 4.984375 -7.296875 4.03125 -7.296875 C 2.15625 -7.296875 0.359375 -5.578125 0.359375 -3.53125 C 0.359375 -1.46875 2.171875 0.21875 4.03125 0.21875 C 5.65625 0.21875 6.828125 -1.296875 6.828125 -2.453125 Z M 6.828125 -2.453125 \"/>\n",
       "</symbol>\n",
       "<symbol overflow=\"visible\" id=\"glyph-1475506270208689-0-8\">\n",
       "<path style=\"stroke:none;\" d=\"M 5.53125 -0.125 L 5.53125 -0.578125 C 4.8125 -0.578125 4.765625 -0.4375 4.75 -0.734375 L 4.75 -2.640625 C 4.75 -3.5 4.6875 -3.90625 4.390625 -4.265625 C 4.25 -4.4375 3.78125 -4.671875 3.203125 -4.671875 C 2.359375 -4.671875 1.71875 -3.9375 1.625 -3.71875 L 1.953125 -3.71875 L 1.953125 -7.203125 L 0.125 -7.0625 L 0.125 -6.5 C 1.015625 -6.5 0.890625 -6.5625 0.890625 -6.078125 L 0.890625 -0.890625 C 0.890625 -0.4375 0.984375 -0.578125 0.125 -0.578125 L 0.125 0.015625 L 1.453125 -0.03125 L 2.765625 0.015625 L 2.765625 -0.578125 C 1.890625 -0.578125 1.984375 -0.4375 1.984375 -0.890625 L 1.984375 -2.71875 C 1.984375 -3.765625 2.5 -4.1875 3.125 -4.1875 C 3.765625 -4.1875 3.671875 -3.78125 3.671875 -3.203125 L 3.671875 -0.890625 C 3.671875 -0.4375 3.765625 -0.578125 2.890625 -0.578125 L 2.890625 0.015625 L 4.21875 -0.03125 L 5.53125 0.015625 Z M 5.53125 -0.125 \"/>\n",
       "</symbol>\n",
       "<symbol overflow=\"visible\" id=\"glyph-1475506270208689-0-9\">\n",
       "<path style=\"stroke:none;\" d=\"M 7.34375 -0.125 L 7.34375 -0.578125 L 6.96875 -0.578125 C 6.375 -0.578125 6.4375 -0.515625 6.3125 -0.84375 L 4.171875 -7.0625 C 4.109375 -7.203125 3.890625 -7.40625 3.734375 -7.40625 C 3.578125 -7.40625 3.34375 -7.203125 3.296875 -7.0625 L 1.234375 -1.109375 C 1.0625 -0.59375 0.859375 -0.59375 0.125 -0.578125 L 0.125 0.015625 L 1.328125 -0.03125 L 2.6875 0.015625 L 2.6875 -0.578125 C 1.984375 -0.578125 1.9375 -0.6875 1.9375 -0.953125 C 1.9375 -0.984375 1.890625 -0.984375 1.96875 -1.171875 L 2.359375 -2.265625 L 4.515625 -2.265625 L 5 -0.875 C 5.015625 -0.84375 5.03125 -0.78125 5.03125 -0.734375 C 5.03125 -0.4375 4.671875 -0.578125 4.203125 -0.578125 L 4.203125 0.015625 C 4.765625 -0.03125 5.46875 -0.03125 5.84375 -0.03125 L 7.34375 0.015625 Z M 4.5625 -2.84375 L 2.5625 -2.84375 L 3.640625 -5.953125 L 3.234375 -5.953125 L 4.3125 -2.84375 Z M 4.5625 -2.84375 \"/>\n",
       "</symbol>\n",
       "</g>\n",
       "</defs>\n",
       "<g id=\"surface1\">\n",
       "<path style=\"fill:none;stroke-width:0.3985;stroke-linecap:butt;stroke-linejoin:miter;stroke:rgb(0%,0%,0%);stroke-opacity:1;stroke-miterlimit:10;\" d=\"M 6.298438 -6.297562 L 21.130469 -21.129594 \" transform=\"matrix(1,0,0,-1,6.1,7.804)\"/>\n",
       "<path style=\"fill:none;stroke-width:0.31879;stroke-linecap:round;stroke-linejoin:round;stroke:rgb(0%,0%,0%);stroke-opacity:1;stroke-miterlimit:10;\" d=\"M -1.196636 1.594396 C -1.094455 0.995021 -0.000695424 0.100075 0.297607 0.000631502 C -0.000701049 -0.0987951 -1.097274 -0.996441 -1.196726 -1.593049 \" transform=\"matrix(0.70714,0.7071,0.7071,-0.70714,27.23051,28.93454)\"/>\n",
       "<path style=\"fill:none;stroke-width:0.3985;stroke-linecap:butt;stroke-linejoin:miter;stroke:rgb(0%,0%,0%);stroke-opacity:1;stroke-miterlimit:10;\" d=\"M 28.345312 -5.778031 L 28.345312 -20.996781 \" transform=\"matrix(1,0,0,-1,6.1,7.804)\"/>\n",
       "<path style=\"fill:none;stroke-width:0.31879;stroke-linecap:round;stroke-linejoin:round;stroke:rgb(0%,0%,0%);stroke-opacity:1;stroke-miterlimit:10;\" d=\"M -1.194831 1.592262 C -1.097175 0.994606 0.00048125 0.100075 0.297356 -0.0014875 C 0.00048125 -0.0991438 -1.097175 -0.997581 -1.194831 -1.595238 \" transform=\"matrix(0,1,1,0,34.4468,28.8003)\"/>\n",
       "<path style=\"fill:none;stroke-width:0.3985;stroke-linecap:butt;stroke-linejoin:miter;stroke:rgb(0%,0%,0%);stroke-opacity:1;stroke-miterlimit:10;\" d=\"M 49.802344 -6.891312 L 35.564062 -21.129594 \" transform=\"matrix(1,0,0,-1,6.1,7.804)\"/>\n",
       "<path style=\"fill:none;stroke-width:0.31879;stroke-linecap:round;stroke-linejoin:round;stroke:rgb(0%,0%,0%);stroke-opacity:1;stroke-miterlimit:10;\" d=\"M -1.197386 1.593641 C -1.095161 0.994287 -0.00135456 0.0994443 0.296949 0.0000261877 C -0.00134472 -0.0994215 -1.095063 -0.994372 -1.197228 -1.593737 \" transform=\"matrix(-0.70717,0.7071,0.7071,0.70717,41.6631,28.93454)\"/>\n",
       "<path style=\"fill:none;stroke-width:0.3985;stroke-linecap:butt;stroke-linejoin:miter;stroke:rgb(0%,0%,0%);stroke-opacity:1;stroke-miterlimit:10;\" d=\"M 56.692969 -6.891312 L 56.692969 -50.512406 \" transform=\"matrix(1,0,0,-1,6.1,7.804)\"/>\n",
       "<path style=\"fill:none;stroke-width:0.31879;stroke-linecap:round;stroke-linejoin:round;stroke:rgb(0%,0%,0%);stroke-opacity:1;stroke-miterlimit:10;\" d=\"M -1.196636 1.593099 C -1.095074 0.995442 -0.00132375 0.100911 0.299457 -0.00065125 C -0.00132375 -0.0983075 -1.095074 -0.996745 -1.196636 -1.594401 \" transform=\"matrix(0,1,1,0,62.79362,58.31773)\"/>\n",
       "<path style=\"fill:none;stroke-width:0.3985;stroke-linecap:butt;stroke-linejoin:miter;stroke:rgb(0%,0%,0%);stroke-opacity:1;stroke-miterlimit:10;\" d=\"M 35.239844 -35.238969 L 50.896094 -50.895219 \" transform=\"matrix(1,0,0,-1,6.1,7.804)\"/>\n",
       "<path style=\"fill:none;stroke-width:0.31879;stroke-linecap:round;stroke-linejoin:round;stroke:rgb(0%,0%,0%);stroke-opacity:1;stroke-miterlimit:10;\" d=\"M -1.19515 1.591626 C -1.095722 0.995006 -0.00193428 0.100062 0.299136 -0.00214057 C -0.00193709 -0.0988106 -1.095751 -0.993723 -1.195196 -1.595865 \" transform=\"matrix(0.70712,0.7071,0.7071,-0.70712,56.99702,58.70103)\"/>\n",
       "<path style=\"fill:none;stroke-width:0.3985;stroke-linecap:butt;stroke-linejoin:miter;stroke:rgb(0%,0%,0%);stroke-opacity:1;stroke-miterlimit:10;\" d=\"M 133.817969 -7.141312 L 126.911719 -20.961625 \" transform=\"matrix(1,0,0,-1,6.1,7.804)\"/>\n",
       "<path style=\"fill:none;stroke-width:0.31879;stroke-linecap:round;stroke-linejoin:round;stroke:rgb(0%,0%,0%);stroke-opacity:1;stroke-miterlimit:10;\" d=\"M -1.197601 1.595136 C -1.094517 0.995945 0.000825269 0.0980583 0.299551 -0.00150801 C -0.000916353 -0.0993435 -1.094463 -0.995542 -1.197516 -1.592991 \" transform=\"matrix(-0.44724,0.89442,0.89442,0.44724,133.01032,28.764)\"/>\n",
       "<path style=\"fill:none;stroke-width:0.3985;stroke-linecap:butt;stroke-linejoin:miter;stroke:rgb(0%,0%,0%);stroke-opacity:1;stroke-miterlimit:10;\" d=\"M 140.9625 -7.141312 L 147.814063 -20.85225 \" transform=\"matrix(1,0,0,-1,6.1,7.804)\"/>\n",
       "<path style=\"fill:none;stroke-width:0.31879;stroke-linecap:round;stroke-linejoin:round;stroke:rgb(0%,0%,0%);stroke-opacity:1;stroke-miterlimit:10;\" d=\"M -1.197398 1.59284 C -1.094334 0.995387 -0.000761056 0.0992002 0.299711 0.00136915 C 0.000984113 -0.0982034 -1.094352 -0.996118 -1.195679 -1.591822 \" transform=\"matrix(0.44722,0.89442,0.89442,-0.44722,153.91552,28.65442)\"/>\n",
       "<path style=\"fill:none;stroke-width:0.3985;stroke-linecap:butt;stroke-linejoin:miter;stroke:rgb(0%,0%,0%);stroke-opacity:1;stroke-miterlimit:10;\" d=\"M 123.216406 -35.324906 L 123.216406 -49.2585 \" transform=\"matrix(1,0,0,-1,6.1,7.804)\"/>\n",
       "<path style=\"fill:none;stroke-width:0.31879;stroke-linecap:round;stroke-linejoin:round;stroke:rgb(0%,0%,0%);stroke-opacity:1;stroke-miterlimit:10;\" d=\"M -1.195253 1.593256 C -1.097596 0.9956 0.00006 0.101069 0.296935 -0.00049375 C 0.00006 -0.09815 -1.097596 -0.996588 -1.195253 -1.594244 \" transform=\"matrix(0,1,1,0,129.3169,57.06244)\"/>\n",
       "<g style=\"fill:rgb(0%,0%,0%);fill-opacity:1;\">\n",
       "  <use xlink:href=\"#glyph-1475506270208689-0-1\" x=\"3.321\" y=\"10.354\"/>\n",
       "</g>\n",
       "<g style=\"fill:rgb(0%,0%,0%);fill-opacity:1;\">\n",
       "  <use xlink:href=\"#glyph-1475506270208689-0-2\" x=\"31.253\" y=\"9.95\"/>\n",
       "</g>\n",
       "<g style=\"fill:rgb(0%,0%,0%);fill-opacity:1;\">\n",
       "  <use xlink:href=\"#glyph-1475506270208689-0-3\" x=\"57.672\" y=\"11.066\"/>\n",
       "  <use xlink:href=\"#glyph-1475506270208689-0-4\" x=\"62.932274\" y=\"11.066\"/>\n",
       "</g>\n",
       "<g style=\"fill:rgb(0%,0%,0%);fill-opacity:1;\">\n",
       "  <use xlink:href=\"#glyph-1475506270208689-0-3\" x=\"29.326\" y=\"39.413\"/>\n",
       "  <use xlink:href=\"#glyph-1475506270208689-0-5\" x=\"34.586274\" y=\"39.413\"/>\n",
       "</g>\n",
       "<g style=\"fill:rgb(0%,0%,0%);fill-opacity:1;\">\n",
       "  <use xlink:href=\"#glyph-1475506270208689-0-6\" x=\"60.84\" y=\"66.698\"/>\n",
       "</g>\n",
       "<g style=\"fill:rgb(0%,0%,0%);fill-opacity:1;\">\n",
       "  <use xlink:href=\"#glyph-1475506270208689-0-7\" x=\"89.897\" y=\"11.206\"/>\n",
       "  <use xlink:href=\"#glyph-1475506270208689-0-4\" x=\"97.090026\" y=\"11.206\"/>\n",
       "</g>\n",
       "<g style=\"fill:rgb(0%,0%,0%);fill-opacity:1;\">\n",
       "  <use xlink:href=\"#glyph-1475506270208689-0-7\" x=\"137.401\" y=\"11.206\"/>\n",
       "  <use xlink:href=\"#glyph-1475506270208689-0-5\" x=\"144.594026\" y=\"11.206\"/>\n",
       "</g>\n",
       "<g style=\"fill:rgb(0%,0%,0%);fill-opacity:1;\">\n",
       "  <use xlink:href=\"#glyph-1475506270208689-0-8\" x=\"124.055\" y=\"39.607\"/>\n",
       "  <use xlink:href=\"#glyph-1475506270208689-0-4\" x=\"129.594228\" y=\"39.607\"/>\n",
       "</g>\n",
       "<g style=\"fill:rgb(0%,0%,0%);fill-opacity:1;\">\n",
       "  <use xlink:href=\"#glyph-1475506270208689-0-8\" x=\"124.055\" y=\"67.953\"/>\n",
       "  <use xlink:href=\"#glyph-1475506270208689-0-5\" x=\"129.594228\" y=\"67.953\"/>\n",
       "</g>\n",
       "<g style=\"fill:rgb(0%,0%,0%);fill-opacity:1;\">\n",
       "  <use xlink:href=\"#glyph-1475506270208689-0-9\" x=\"153.926\" y=\"39.717\"/>\n",
       "</g>\n",
       "</g>\n",
       "</svg>\n",
       "\n"
      ],
      "text/plain": [
       "BayesNets.BayesNet{BayesNets.CPDs.CategoricalCPD{Distributions.Categorical{Float64}}}({10, 8} directed graph,BayesNets.CPDs.CategoricalCPD{Distributions.Categorical{Float64}}[BayesNets.CPDs.CategoricalCPD{Distributions.Categorical{Float64}}(:β,Symbol[],Int64[],Distributions.Categorical{Float64}[Distributions.Categorical{Float64}(K=6, p=[0.111111,0.111111,0.111111,0.111111,0.111111,0.444444])]),BayesNets.CPDs.CategoricalCPD{Distributions.Categorical{Float64}}(:α,Symbol[],Int64[],Distributions.Categorical{Float64}[Distributions.Categorical{Float64}(K=6, p=[0.111111,0.111111,0.111111,0.111111,0.444444,0.111111])]),BayesNets.CPDs.CategoricalCPD{Distributions.Categorical{Float64}}(:v2,Symbol[],Int64[],Distributions.Categorical{Float64}[Distributions.Categorical{Float64}(K=6, p=[0.222222,0.333333,0.111111,0.111111,0.111111,0.111111])]),BayesNets.CPDs.CategoricalCPD{Distributions.Categorical{Float64}}(:v1,Symbol[:v2,:α,:β],[6,6,6],Distributions.Categorical{Float64}[Distributions.Categorical{Float64}(K=6, p=[0.166667,0.166667,0.166667,0.166667,0.166667,0.166667]),Distributions.Categorical{Float64}(K=6, p=[0.166667,0.166667,0.166667,0.166667,0.166667,0.166667]),Distributions.Categorical{Float64}(K=6, p=[0.166667,0.166667,0.166667,0.166667,0.166667,0.166667]),Distributions.Categorical{Float64}(K=6, p=[0.166667,0.166667,0.166667,0.166667,0.166667,0.166667]),Distributions.Categorical{Float64}(K=6, p=[0.166667,0.166667,0.166667,0.166667,0.166667,0.166667]),Distributions.Categorical{Float64}(K=6, p=[0.166667,0.166667,0.166667,0.166667,0.166667,0.166667]),Distributions.Categorical{Float64}(K=6, p=[0.166667,0.166667,0.166667,0.166667,0.166667,0.166667]),Distributions.Categorical{Float64}(K=6, p=[0.166667,0.166667,0.166667,0.166667,0.166667,0.166667]),Distributions.Categorical{Float64}(K=6, p=[0.166667,0.166667,0.166667,0.166667,0.166667,0.166667]),Distributions.Categorical{Float64}(K=6, p=[0.166667,0.166667,0.166667,0.166667,0.166667,0.166667])  …  Distributions.Categorical{Float64}(K=6, p=[0.166667,0.166667,0.166667,0.166667,0.166667,0.166667]),Distributions.Categorical{Float64}(K=6, p=[0.166667,0.166667,0.166667,0.166667,0.166667,0.166667]),Distributions.Categorical{Float64}(K=6, p=[0.166667,0.166667,0.166667,0.166667,0.166667,0.166667]),Distributions.Categorical{Float64}(K=6, p=[0.166667,0.166667,0.166667,0.166667,0.166667,0.166667]),Distributions.Categorical{Float64}(K=6, p=[0.166667,0.166667,0.166667,0.166667,0.166667,0.166667]),Distributions.Categorical{Float64}(K=6, p=[0.166667,0.166667,0.166667,0.166667,0.166667,0.166667]),Distributions.Categorical{Float64}(K=6, p=[0.166667,0.166667,0.166667,0.166667,0.166667,0.166667]),Distributions.Categorical{Float64}(K=6, p=[0.166667,0.166667,0.166667,0.166667,0.166667,0.166667]),Distributions.Categorical{Float64}(K=6, p=[0.166667,0.166667,0.166667,0.166667,0.166667,0.166667]),Distributions.Categorical{Float64}(K=6, p=[0.166667,0.166667,0.166667,0.166667,0.166667,0.166667])]),BayesNets.CPDs.CategoricalCPD{Distributions.Categorical{Float64}}(:r,Symbol[:v1,:v2],[6,6],Distributions.Categorical{Float64}[Distributions.Categorical{Float64}(K=4, p=[0.25,0.25,0.25,0.25]),Distributions.Categorical{Float64}(K=4, p=[0.4,0.2,0.2,0.2]),Distributions.Categorical{Float64}(K=4, p=[0.25,0.25,0.25,0.25]),Distributions.Categorical{Float64}(K=4, p=[0.25,0.25,0.25,0.25]),Distributions.Categorical{Float64}(K=4, p=[0.25,0.25,0.25,0.25]),Distributions.Categorical{Float64}(K=4, p=[0.25,0.25,0.25,0.25]),Distributions.Categorical{Float64}(K=4, p=[0.25,0.25,0.25,0.25]),Distributions.Categorical{Float64}(K=4, p=[0.25,0.25,0.25,0.25]),Distributions.Categorical{Float64}(K=4, p=[0.166667,0.5,0.166667,0.166667]),Distributions.Categorical{Float64}(K=4, p=[0.25,0.25,0.25,0.25])  …  Distributions.Categorical{Float64}(K=4, p=[0.25,0.25,0.25,0.25]),Distributions.Categorical{Float64}(K=4, p=[0.25,0.25,0.25,0.25]),Distributions.Categorical{Float64}(K=4, p=[0.25,0.25,0.25,0.25]),Distributions.Categorical{Float64}(K=4, p=[0.25,0.25,0.25,0.25]),Distributions.Categorical{Float64}(K=4, p=[0.25,0.25,0.25,0.25]),Distributions.Categorical{Float64}(K=4, p=[0.25,0.25,0.25,0.25]),Distributions.Categorical{Float64}(K=4, p=[0.25,0.25,0.25,0.25]),Distributions.Categorical{Float64}(K=4, p=[0.25,0.25,0.25,0.25]),Distributions.Categorical{Float64}(K=4, p=[0.25,0.25,0.25,0.25]),Distributions.Categorical{Float64}(K=4, p=[0.25,0.25,0.25,0.25])]),BayesNets.CPDs.CategoricalCPD{Distributions.Categorical{Float64}}(:C2,Symbol[],Int64[],Distributions.Categorical{Float64}[Distributions.Categorical{Float64}(K=2, p=[0.2,0.8])]),BayesNets.CPDs.CategoricalCPD{Distributions.Categorical{Float64}}(:C1,Symbol[],Int64[],Distributions.Categorical{Float64}[Distributions.Categorical{Float64}(K=2, p=[0.2,0.8])]),BayesNets.CPDs.CategoricalCPD{Distributions.Categorical{Float64}}(:h2,Symbol[:C1],[2],Distributions.Categorical{Float64}[Distributions.Categorical{Float64}(K=4, p=[0.25,0.25,0.25,0.25]),Distributions.Categorical{Float64}(K=4, p=[0.428571,0.285714,0.142857,0.142857])]),BayesNets.CPDs.CategoricalCPD{Distributions.Categorical{Float64}}(:h1,Symbol[:h2],[4],Distributions.Categorical{Float64}[Distributions.Categorical{Float64}(K=4, p=[0.5,0.166667,0.166667,0.166667]),Distributions.Categorical{Float64}(K=4, p=[0.2,0.2,0.2,0.4]),Distributions.Categorical{Float64}(K=4, p=[0.25,0.25,0.25,0.25]),Distributions.Categorical{Float64}(K=4, p=[0.25,0.25,0.25,0.25])]),BayesNets.CPDs.CategoricalCPD{Distributions.Categorical{Float64}}(:A,Symbol[:C1],[2],Distributions.Categorical{Float64}[Distributions.Categorical{Float64}(K=4, p=[0.25,0.25,0.25,0.25]),Distributions.Categorical{Float64}(K=4, p=[0.142857,0.285714,0.142857,0.428571])])],Dict(:A=>10,:r=>5,:C1=>7,:v2=>3,:v1=>4,:C2=>6,:α=>2,:h1=>9,:β=>1,:h2=>8…))"
      ]
     },
     "execution_count": 7,
     "metadata": {},
     "output_type": "execute_result"
    }
   ],
   "source": [
    "using BayesNets\n",
    "\n",
    "params = GreedyHillClimbing(ScoreComponentCache(data_initial), max_n_parents=3, prior=UniformPrior())\n",
    "bn_initial = fit(DiscreteBayesNet, data_initial, params, ncategories=ncategories)"
   ]
  },
  {
   "cell_type": "markdown",
   "metadata": {},
   "source": [
    "### Pull Raw Data"
   ]
  },
  {
   "cell_type": "markdown",
   "metadata": {},
   "source": [
    "What new variables can be added?"
   ]
  },
  {
   "cell_type": "code",
   "execution_count": 9,
   "metadata": {},
   "outputs": [
    {
     "data": {
      "text/html": [
       "<table class=\"data-frame\"><tr><th></th><th>dv</th><th>dh</th><th>dψ</th></tr><tr><th>1</th><td>0.0</td><td>-198.37739324832364</td><td>0.7296650000000007</td></tr><tr><th>2</th><td>-1.4572300000000098</td><td>0.0</td><td>2.8514299999999935</td></tr><tr><th>3</th><td>0.0</td><td>-198.37739324832364</td><td>0.7296649999999989</td></tr></table>"
      ],
      "text/plain": [
       "3×3 DataFrames.DataFrame\n",
       "│ Row │ dv       │ dh       │ dψ       │\n",
       "├─────┼──────────┼──────────┼──────────┤\n",
       "│ 1   │ 0.0      │ -198.377 │ 0.729665 │\n",
       "│ 2   │ -1.45723 │ 0.0      │ 2.85143  │\n",
       "│ 3   │ 0.0      │ -198.377 │ 0.729665 │"
      ]
     },
     "execution_count": 9,
     "metadata": {},
     "output_type": "execute_result"
    }
   ],
   "source": [
    "M = 2*51*N # 2 aircraft per run, 51 frame-deltas per run\n",
    "\n",
    "data_transition = DataFrame(\n",
    "    du=Array(Float64, M), # vertical accel [m/s2]\n",
    "    dv=Array(Float64, M), # horizontal accel [m/s2]\n",
    ")\n",
    "\n",
    "j = 1\n",
    "i = 0\n",
    "traceids = traces[:id]\n",
    "for id in 1 : N\n",
    "    j = findnext(traceids, id, j)\n",
    "    \n",
    "    for k in 1 : 51\n",
    "        i += 1\n",
    "        data_transition[i, :du] = traces[j + k, :u1] - traces[j + k - 1, :u1]\n",
    "        data_transition[i, :dv] = traces[j + k, :v1] - traces[j + k - 1, :v1]\n",
    "\n",
    "        i += 1\n",
    "        data_transition[i, :du] = traces[j + k, :u2] - traces[j + k - 1, :u2]\n",
    "        data_transition[i, :dv] = traces[j + k, :v2] - traces[j + k - 1, :v2]\n",
    "    end\n",
    "end\n",
    "\n",
    "data_transition[1:3,:]"
   ]
  },
  {
   "cell_type": "markdown",
   "metadata": {},
   "source": [
    "### Fit Distributions"
   ]
  },
  {
   "cell_type": "code",
   "execution_count": null,
   "metadata": {
    "collapsed": true
   },
   "outputs": [],
   "source": [
    "using BayesNets\n",
    "\n",
    "params = GreedyHillClimbing(ScoreComponentCache(data_transition), max_n_parents=3, \n",
    "prior=UniformPrior())\n",
    "bn_transition = fit(DiscreteBayesNet, data_transition, params, ncategories=ncategories)"
   ]
  },
  {
   "cell_type": "markdown",
   "metadata": {},
   "source": [
    "###  Sampling"
   ]
  },
  {
   "cell_type": "code",
   "execution_count": 16,
   "metadata": {},
   "outputs": [
    {
     "data": {
      "text/plain": [
       "3-element Array{Float64,1}:\n",
       "  -0.64761\n",
       " -41.7968 \n",
       "   1.2444 "
      ]
     },
     "execution_count": 16,
     "metadata": {},
     "output_type": "execute_result"
    }
   ],
   "source": [
    "function Base.rand(bn::DiscretizedBayesNet, evidence::Assignment)\n",
    "    \n",
    "    # discretize the assignment\n",
    "    for (sym, disc) in bn.discs\n",
    "        evidence[sym] = encode(disc, evidence[sym]) \n",
    "    end\n",
    "    \n",
    "    sample = rand(model.dbn, evidence) # pull from discrete Bayes net\n",
    "    \n",
    "    # convert discrete samples to continuous samples\n",
    "    for (sym, disc) in bn.discs\n",
    "        sample[sym] = decode(disc, sample[sym]) \n",
    "    end\n",
    "\n",
    "    return sample\n",
    "end"
   ]
  },
  {
   "cell_type": "code",
   "execution_count": 6,
   "metadata": {},
   "outputs": [
    {
     "ename": "LoadError",
     "evalue": "UndefVarError: transition not defined",
     "output_type": "error",
     "traceback": [
      "UndefVarError: transition not defined",
      ""
     ]
    }
   ],
   "source": [
    "rand(transition, Assignment(:Δx => 1.0, :Δy => -1.5, :Δu => 2.0, :Δv => 3.0))"
   ]
  },
  {
   "cell_type": "markdown",
   "metadata": {},
   "source": [
    "### Saving"
   ]
  },
  {
   "cell_type": "code",
   "execution_count": 18,
   "metadata": {
    "collapsed": true
   },
   "outputs": [],
   "source": [
    "using HDF5, JLD\n",
    "JLD.save(Pkg.dir(\"AA120Q\", \"data\", \"myencountermodel.jld\"), \"initial\", bn_initial, \n",
    "                                 \"initdisc\", D,\n",
    "                                 \"transition\", transition,)"
   ]
  }
 ],
 "metadata": {
  "kernelspec": {
   "display_name": "Julia 0.6.0",
   "language": "julia",
   "name": "julia-0.6"
  },
  "language_info": {
   "file_extension": ".jl",
   "mimetype": "application/julia",
   "name": "julia",
   "version": "0.6.0"
  }
 },
 "nbformat": 4,
 "nbformat_minor": 1
}
