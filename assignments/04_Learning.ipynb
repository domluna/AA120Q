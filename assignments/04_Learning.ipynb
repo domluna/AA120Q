{
 "cells": [
  {
   "cell_type": "markdown",
   "metadata": {},
   "source": [
    "# Assignment 4"
   ]
  },
  {
   "cell_type": "markdown",
   "metadata": {},
   "source": [
    "Your task is to write code for learning the parameters of an aircraft encounter model from data.\n",
    "Using the provided airplane trajectories you will:\n",
    "\n",
    "1.  Learn an initial scene model\n",
    "2.  Learn a dynamics model\n",
    "\n",
    "The file [flights.txt](#) is formatted identically to the previous assignment.\n",
    "Use the provided data to learn your models.\n",
    "\n",
    "Turn in your completed julia notebook, and any associated code files you wrote to Coursework.\n",
    "Do not use any external code or Julia packages other than those used in the class materials."
   ]
  },
  {
   "cell_type": "markdown",
   "metadata": {},
   "source": [
    "## Milestone One: Set Up"
   ]
  },
  {
   "cell_type": "code",
   "execution_count": 3,
   "metadata": {},
   "outputs": [
    {
     "data": {
      "text/plain": [
       "Plots.PlotlyJSBackend()"
      ]
     },
     "execution_count": 3,
     "metadata": {},
     "output_type": "execute_result"
    }
   ],
   "source": [
    "using AA120Q\n",
    "plotlyjs()"
   ]
  },
  {
   "cell_type": "markdown",
   "metadata": {},
   "source": [
    "### Load the Dataset"
   ]
  },
  {
   "cell_type": "markdown",
   "metadata": {},
   "source": [
    "Now, you will need to load all the the datasets provided by flights.txt "
   ]
  },
  {
   "cell_type": "code",
   "execution_count": 4,
   "metadata": {},
   "outputs": [
    {
     "data": {
      "text/plain": [
       "0-element Array{AbstractString,1}"
      ]
     },
     "execution_count": 4,
     "metadata": {},
     "output_type": "execute_result"
    }
   ],
   "source": [
    "list_datasets()"
   ]
  },
  {
   "cell_type": "code",
   "execution_count": 10,
   "metadata": {},
   "outputs": [
    {
     "ename": "LoadError",
     "evalue": "\u001b[91mSystemError: opening file /Users/jerryzheng/.julia/v0.6/AA120Q/data/initial_flights.txt: No such file or directory\u001b[39m",
     "output_type": "error",
     "traceback": [
      "\u001b[91mSystemError: opening file /Users/jerryzheng/.julia/v0.6/AA120Q/data/initial_flights.txt: No such file or directory\u001b[39m",
      "",
      "Stacktrace:",
      " [1] \u001b[1m#systemerror#44\u001b[22m\u001b[22m at \u001b[1m./error.jl:64\u001b[22m\u001b[22m [inlined]",
      " [2] \u001b[1msystemerror\u001b[22m\u001b[22m\u001b[1m(\u001b[22m\u001b[22m::String, ::Bool\u001b[1m)\u001b[22m\u001b[22m at \u001b[1m./error.jl:64\u001b[22m\u001b[22m",
      " [3] \u001b[1mopen\u001b[22m\u001b[22m\u001b[1m(\u001b[22m\u001b[22m::String, ::Bool, ::Bool, ::Bool, ::Bool, ::Bool\u001b[1m)\u001b[22m\u001b[22m at \u001b[1m./iostream.jl:104\u001b[22m\u001b[22m",
      " [4] \u001b[1mopen\u001b[22m\u001b[22m\u001b[1m(\u001b[22m\u001b[22m::String, ::String\u001b[1m)\u001b[22m\u001b[22m at \u001b[1m./iostream.jl:132\u001b[22m\u001b[22m",
      " [5] \u001b[1m#readtable#85\u001b[22m\u001b[22m\u001b[1m(\u001b[22m\u001b[22m::Bool, ::Char, ::Array{Char,1}, ::Char, ::Array{String,1}, ::Array{String,1}, ::Array{String,1}, ::Bool, ::Int64, ::Array{Symbol,1}, ::Array{Any,1}, ::Bool, ::Char, ::Bool, ::Int64, ::Array{Int64,1}, ::Bool, ::Symbol, ::Bool, ::Bool, ::DataFrames.#readtable, ::String\u001b[1m)\u001b[22m\u001b[22m at \u001b[1m/Users/jerryzheng/.julia/v0.6/DataFrames/src/dataframe/io.jl:941\u001b[22m\u001b[22m",
      " [6] \u001b[1mreadtable\u001b[22m\u001b[22m\u001b[1m(\u001b[22m\u001b[22m::String\u001b[1m)\u001b[22m\u001b[22m at \u001b[1m/Users/jerryzheng/.julia/v0.6/DataFrames/src/dataframe/io.jl:930\u001b[22m\u001b[22m",
      " [7] \u001b[1m#get_dataset#1\u001b[22m\u001b[22m at \u001b[1m/Users/jerryzheng/.julia/v0.6/AA120Q/src/dataio.jl:33\u001b[22m\u001b[22m [inlined]",
      " [8] \u001b[1mget_dataset\u001b[22m\u001b[22m\u001b[1m(\u001b[22m\u001b[22m::String\u001b[1m)\u001b[22m\u001b[22m at \u001b[1m/Users/jerryzheng/.julia/v0.6/AA120Q/src/dataio.jl:33\u001b[22m\u001b[22m"
     ]
    }
   ],
   "source": [
    "flights = get_dataset(\"flights\")\n",
    "flights"
   ]
  },
  {
   "cell_type": "markdown",
   "metadata": {},
   "source": [
    "## Milestone Two: Initial Conditions Model"
   ]
  },
  {
   "cell_type": "markdown",
   "metadata": {},
   "source": [
    "Here we demonstrate how to implement a simple model.\n",
    "\n",
    "We define the encounter with just the intitial speeds $v1$ and $v2$, and $u1$ and $u2$. We can consider the two planes as points in an xy-plane moving towards each other. \n",
    "\n",
    "You need to develop your own initial conditions model, then write your code here to implement the data structure for the probabilty distribution. We have provided the following starter code and would like you to use the speeds and positions of the aircraft at t=40s and go back linearly to determine intial positions at t=0s, using the given speeds for both aircraft at 40s. "
   ]
  },
  {
   "cell_type": "markdown",
   "metadata": {},
   "source": [
    "# make new picture"
   ]
  },
  {
   "cell_type": "markdown",
   "metadata": {},
   "source": [
    "This simple model thus defines a probability distribution as follows:\n",
    "\n",
    "$$P(x_1, y_1, u_1, v_1 \\Delta x, \\Delta y, \\Delta u, \\Delta v)$$\n",
    "\n",
    "First, use categorical distributions for everything (**Pull Raw Data**), and discretize continuous variables into bins (**Discretize Dataset**).\n",
    "\n",
    "Then train a discrete Bayesian network over the discrete dataset (**Fit Distributions**).\n",
    "We will repeat this process for the Dynamics Model."
   ]
  },
  {
   "cell_type": "markdown",
   "metadata": {},
   "source": [
    "### Pulling the Raw Data"
   ]
  },
  {
   "cell_type": "code",
   "execution_count": 11,
   "metadata": {},
   "outputs": [
    {
     "ename": "LoadError",
     "evalue": "\u001b[91mUndefVarError: initial not defined\u001b[39m",
     "output_type": "error",
     "traceback": [
      "\u001b[91mUndefVarError: initial not defined\u001b[39m",
      ""
     ]
    }
   ],
   "source": [
    "#Get the number of rows needed\n",
    "N = nrow(initial)\n",
    "\n",
    "#Initializes a data frame to store the inital conditions\n",
    "data_initial = DataFrame(\n",
    "    x1=Array(Float64, N),\n",
    "    y1=Array(Float64, N),\n",
    "    u1=Array(Float64, N),\n",
    "    v1=Array(Float64, N),\n",
    "    Δx=Array(Float64, N),\n",
    "    Δy=Array(Float64, N),\n",
    "    Δu=Array(Float64, N),\n",
    "    Δv=Array(Float64, N)\n",
    ")\n",
    "\n",
    "j = 1\n",
    "flightids = flights[:id]\n",
    "for id in 1 : nrow(initial)\n",
    "    j = findnext(flightids, id, j)\n",
    "    \n",
    "    data_initial[id, :x1] = flights[j,:x1]\n",
    "    data_initial[id, :y1] = flights[j,:y1]\n",
    "    data_initial[id, :u1] = flights[j,:u1]\n",
    "    data_initial[id, :v1] = flights[j,:v1]\n",
    "    data_initial[id, :Δx] = flights[j,:x2] - flights[j,:x1]\n",
    "    data_initial[id, :Δy] = flights[j,:y2] - flights[j,:y1]\n",
    "    data_initial[id, :Δu] = flights[j,:u2] - flights[j,:u1]\n",
    "    data_initial[id, :Δv] = flights[j,:v2] - flights[j,:v1]\n",
    "end\n",
    "\n",
    "data_initial[1:3,:]"
   ]
  },
  {
   "cell_type": "markdown",
   "metadata": {},
   "source": [
    "### Discretize Dataset"
   ]
  },
  {
   "cell_type": "markdown",
   "metadata": {},
   "source": [
    "Is there any means of tuning the discretization of the data? "
   ]
  },
  {
   "cell_type": "code",
   "execution_count": 13,
   "metadata": {},
   "outputs": [
    {
     "ename": "LoadError",
     "evalue": "\u001b[91mUndefVarError: data_initial not defined\u001b[39m",
     "output_type": "error",
     "traceback": [
      "\u001b[91mUndefVarError: data_initial not defined\u001b[39m",
      ""
     ]
    }
   ],
   "source": [
    "using Discretizers\n",
    "\n",
    "D = Dict{Symbol,LinearDiscretizer}()\n",
    "D[:x1] = LinearDiscretizer(Float64[0,30,60,90,120,150,180])  # [m]\n",
    "D[:y1] = LinearDiscretizer(Float64[150,365,915,1520,3800])   # [m]\n",
    "\n",
    "D[:u1] = LinearDiscretizer(Float64[0,30,60,90,120,150,180]) # [m/s]\n",
    "D[:v1] = LinearDiscretizer(Float64[150,365,915,1520,3800])  # [m/s]\n",
    "\n",
    "D[:Δx] = LinearDiscretizer(Float64[0,30,60,90,120,150,180]) # [m]\n",
    "D[:Δy] = LinearDiscretizer(Float64[150,365,915,1520,3800])  # [m]\n",
    "\n",
    "D[:Δu] = LinearDiscretizer(Float64[0,30,60,90,120,150,180]) # [m/s]\n",
    "D[:Δv] = LinearDiscretizer(Float64[150,365,915,1520,3800])  # [m/s]\n",
    "\n",
    "# data_initial[:u1] = encode(D[:u], data_initial[:u1])\n",
    "# data_initial[:u2] = encode(D[:u], data_initial[:u2])\n",
    "# data_initial[:v1] = encode(D[:v], data_initial[:v1])\n",
    "# data_initial[:v2] = encode(D[:v], data_initial[:v2])\n",
    "\n",
    "ncategories = [4, 2, 2, nlabels(D[:x1]), nlabels(D[:y1]), nlabels(D[:u1]), nlabels(D[:v1]),\n",
    "               nlabels(D[:Δx]), nlabels(D[:Δx]), nlabels(D[:Δu]), nlabels(D[:Δv])]\n",
    "\n",
    "data_initial[1:3,:]"
   ]
  },
  {
   "cell_type": "markdown",
   "metadata": {},
   "source": [
    "###  Fit Distributions"
   ]
  },
  {
   "cell_type": "code",
   "execution_count": 3,
   "metadata": {},
   "outputs": [
    {
     "ename": "LoadError",
     "evalue": "ArgumentError: Module BayesNets not found in current path.\nRun `Pkg.add(\"BayesNets\")` to install the BayesNets package.",
     "output_type": "error",
     "traceback": [
      "ArgumentError: Module BayesNets not found in current path.\nRun `Pkg.add(\"BayesNets\")` to install the BayesNets package.",
      "",
      " in require(::Symbol) at ./loading.jl:365",
      " in require(::Symbol) at /Applications/JuliaPro-0.5.2.2.app/Contents/Resources/julia/Contents/Resources/julia/lib/julia/sys.dylib:?"
     ]
    }
   ],
   "source": [
    "using BayesNets\n",
    "\n",
    "params = GreedyHillClimbing(ScoreComponentCache(data_initial), max_n_parents=3, \n",
    "prior=UniformPrior())\n",
    "bn_initial = fit(DiscreteBayesNet, data_initial, params, ncategories=ncategories)"
   ]
  },
  {
   "cell_type": "markdown",
   "metadata": {},
   "source": [
    "### Sampling"
   ]
  },
  {
   "cell_type": "markdown",
   "metadata": {},
   "source": [
    "#### Sample from Initial to get Initial Scene\n",
    "\n",
    "We now have to implement `Base.rand(model)` which should generate Encounters.\n"
   ]
  },
  {
   "cell_type": "markdown",
   "metadata": {},
   "source": [
    "`sample_initial` should take in an EncounterModel and produce the airspace class, the aircraft categories, and two AircraftStates"
   ]
  },
  {
   "cell_type": "code",
   "execution_count": 1,
   "metadata": {},
   "outputs": [
    {
     "ename": "LoadError",
     "evalue": "\u001b[91mUndefVarError: DiscreteBayesNet not defined\u001b[39m",
     "output_type": "error",
     "traceback": [
      "\u001b[91mUndefVarError: DiscreteBayesNet not defined\u001b[39m",
      ""
     ]
    }
   ],
   "source": [
    "struct DiscretizedBayesNet\n",
    "    dbn::DiscreteBayesNet\n",
    "    discs::Dict{Symbol, LinearDiscretizer}\n",
    "end"
   ]
  },
  {
   "cell_type": "code",
   "execution_count": 2,
   "metadata": {},
   "outputs": [
    {
     "ename": "LoadError",
     "evalue": "\u001b[91mUndefVarError: DiscretizedBayesNet not defined\u001b[39m",
     "output_type": "error",
     "traceback": [
      "\u001b[91mUndefVarError: DiscretizedBayesNet not defined\u001b[39m",
      ""
     ]
    }
   ],
   "source": [
    "function Base.rand(bn::DiscretizedBayesNet)\n",
    "    sample = rand(model.dbn) # pull from discrete Bayes net\n",
    "    \n",
    "    # convert discrete samples to continuous samples\n",
    "    for (sym, disc) in bn.discs\n",
    "        sample[sym] = decode(disc, sample[sym]) \n",
    "    end\n",
    "\n",
    "    return sample\n",
    "end"
   ]
  },
  {
   "cell_type": "markdown",
   "metadata": {},
   "source": [
    "#### Sample Traces\n",
    "\n",
    "`sample_transition` takes a model and two aircraft states and returns the actions for each aircraft at that timestep."
   ]
  },
  {
   "cell_type": "code",
   "execution_count": 3,
   "metadata": {},
   "outputs": [
    {
     "ename": "LoadError",
     "evalue": "UndefVarError: AA120Q not defined",
     "output_type": "error",
     "traceback": [
      "UndefVarError: AA120Q not defined",
      ""
     ]
    }
   ],
   "source": [
    "function AA120Q.sample_transition(s1::AircraftState, s2::AircraftState, model::DemoEncounterModel, params::EncounterSimParams)\n",
    "    \n",
    "    v = rand(model.transition) # [du, dv]\n",
    "    a1 = AircraftAction(v[1], v[2])\n",
    "\n",
    "    v = rand(model.transition) # [du, dv]\n",
    "    a2 = AircraftAction(v[1], v[2])\n",
    "    \n",
    "    (a1, a2)\n",
    "end\n",
    "\n",
    "traj = rand(model, DEFAULT_SIM_PARAMS)\n",
    "plot_encounter(traj)"
   ]
  },
  {
   "cell_type": "markdown",
   "metadata": {},
   "source": [
    "## Milestone Three: Dynamics Model"
   ]
  },
  {
   "cell_type": "markdown",
   "metadata": {},
   "source": [
    "Now lets train a simple uncorrelated dynamics model. It represents:\n",
    "\n",
    "$$P(\\dot{u}, \\dot{v} \\mid \\Delta x, \\Delta y, \\Delta u, \\Delta v)$$\n",
    "\n",
    "We will train:\n",
    "\n",
    "$$P(\\dot{u}, \\dot{v}, \\Delta x, \\Delta y, \\Delta u, \\Delta v)$$\n",
    "\n",
    "Again, we would like to improve the model like how we did with the intial conditions model. Here are a few ways of improving the given model:\n",
    "\n",
    "1. Add additional three conditional variables: acceleration, climbrate, and turnrate\n",
    "             \n",
    "2. Include other variables (current altitude, aircraft type, etc.)\n",
    "\n",
    "Develop your own dynamics model of probability dsitribution using a Discrete Bayesian.\n",
    "\n",
    "Use the following code as a starting point. You have until week 5 to work on it."
   ]
  },
  {
   "cell_type": "markdown",
   "metadata": {},
   "source": [
    "### Pull Raw Data"
   ]
  },
  {
   "cell_type": "markdown",
   "metadata": {},
   "source": [
    "We would now like you to pull the data from the flights dataset in order to fill the data_transition data array. You can use the code from the initial model as a reference. We want to load the both the horizontal and vertical acceleration for both aircraft. Think in terms of how we could do that given u1, v1, and u2, v2. (Remember that acceleration is $\\frac{\\Delta velocity}{\\Delta time}$. \n",
    "\n",
    "We have provided the size of the array below and the DataFrame, now you just need to load the data in below. "
   ]
  },
  {
   "cell_type": "code",
   "execution_count": 9,
   "metadata": {},
   "outputs": [
    {
     "data": {
      "text/html": [
       "<table class=\"data-frame\"><tr><th></th><th>dv</th><th>dh</th><th>dψ</th></tr><tr><th>1</th><td>0.0</td><td>-198.37739324832364</td><td>0.7296650000000007</td></tr><tr><th>2</th><td>-1.4572300000000098</td><td>0.0</td><td>2.8514299999999935</td></tr><tr><th>3</th><td>0.0</td><td>-198.37739324832364</td><td>0.7296649999999989</td></tr></table>"
      ],
      "text/plain": [
       "3×3 DataFrames.DataFrame\n",
       "│ Row │ dv       │ dh       │ dψ       │\n",
       "├─────┼──────────┼──────────┼──────────┤\n",
       "│ 1   │ 0.0      │ -198.377 │ 0.729665 │\n",
       "│ 2   │ -1.45723 │ 0.0      │ 2.85143  │\n",
       "│ 3   │ 0.0      │ -198.377 │ 0.729665 │"
      ]
     },
     "execution_count": 9,
     "metadata": {},
     "output_type": "execute_result"
    }
   ],
   "source": [
    "M = 2*51*N # 2 aircraft per run, 51 frame-deltas per run\n",
    "\n",
    "data_transition = DataFrame(\n",
    "    du=Array(Float64, M), # horizontal accel [m/s2]\n",
    "    dv=Array(Float64, M), # vertical accel   [m/s2]\n",
    ")\n",
    "\n",
    "j = 1\n",
    "i = 0\n",
    "flightids = flights[:id]\n",
    "\n",
    "# Use a for loop to fill the DataFrame above with the data from loaded flights.csv file\n",
    "\n",
    "# for id in 1 : N\n",
    "#     j = findnext(traceids, id, j)\n",
    "    \n",
    "#     for k in 1 : 51\n",
    "#         i += 1\n",
    "#         data_transition[i, :du] = flights[j + k, :u1] - flights[j + k - 1, :u1]\n",
    "#         data_transition[i, :dv] = flights[j + k, :v1] - flights[j + k - 1, :v1]\n",
    "\n",
    "#         i += 1\n",
    "#         data_transition[i, :du] = flights[j + k, :u2] - flights[j + k - 1, :u2]\n",
    "#         data_transition[i, :dv] = flights[j + k, :v2] - flights[j + k - 1, :v2]\n",
    "#     end\n",
    "# end\n",
    "\n",
    "data_transition[1:3,:]"
   ]
  },
  {
   "cell_type": "markdown",
   "metadata": {},
   "source": [
    "### Fit Distributions"
   ]
  },
  {
   "cell_type": "code",
   "execution_count": null,
   "metadata": {
    "collapsed": true
   },
   "outputs": [],
   "source": [
    "using BayesNets\n",
    "\n",
    "params = GreedyHillClimbing(ScoreComponentCache(data_transition), max_n_parents=3, \n",
    "prior=UniformPrior())\n",
    "bn_transition = fit(DiscreteBayesNet, data_transition, params, ncategories=ncategories)"
   ]
  },
  {
   "cell_type": "markdown",
   "metadata": {},
   "source": [
    "###  Sampling"
   ]
  },
  {
   "cell_type": "markdown",
   "metadata": {},
   "source": [
    "Finally, we would like to sample the data given. We have already implemented the discretize assignment and would like you to convert the discrete samples to continuous samples. Use the method in the initial model as a reference. "
   ]
  },
  {
   "cell_type": "code",
   "execution_count": 8,
   "metadata": {},
   "outputs": [
    {
     "ename": "LoadError",
     "evalue": "\u001b[91mUndefVarError: DiscretizedBayesNet not defined\u001b[39m",
     "output_type": "error",
     "traceback": [
      "\u001b[91mUndefVarError: DiscretizedBayesNet not defined\u001b[39m",
      ""
     ]
    }
   ],
   "source": [
    "function Base.rand(bn::DiscretizedBayesNet, evidence::Assignment)\n",
    "    \n",
    "    # discretize the assignment\n",
    "    for (sym, disc) in bn.discs\n",
    "        evidence[sym] = encode(disc, evidence[sym]) \n",
    "    end\n",
    "    \n",
    "    sample = rand(model.dbn, evidence) # pull from discrete Bayes net\n",
    "    \n",
    "    # convert discrete samples to continuous samples\n",
    "    \n",
    "#     for (sym, disc) in bn.discs\n",
    "#         sample[sym] = decode(disc, sample[sym]) \n",
    "#     end\n",
    "\n",
    "    return sample\n",
    "end"
   ]
  },
  {
   "cell_type": "code",
   "execution_count": 9,
   "metadata": {},
   "outputs": [
    {
     "ename": "LoadError",
     "evalue": "\u001b[91mUndefVarError: transition not defined\u001b[39m",
     "output_type": "error",
     "traceback": [
      "\u001b[91mUndefVarError: transition not defined\u001b[39m",
      ""
     ]
    }
   ],
   "source": [
    "rand(transition, Assignment(:Δx => 1.0, :Δy => 1.5, :Δu => 2.0, :Δv => 3.0))"
   ]
  },
  {
   "cell_type": "markdown",
   "metadata": {},
   "source": [
    "### Saving"
   ]
  },
  {
   "cell_type": "code",
   "execution_count": 18,
   "metadata": {
    "collapsed": true
   },
   "outputs": [],
   "source": [
    "using HDF5, JLD\n",
    "JLD.save(Pkg.dir(\"AA120Q\", \"data\", \"myencountermodel.jld\"), \"initial\", bn_initial,\n",
    "                                  \"initdisc\", D,\n",
    "                                  \"transition\", bn_transition)"
   ]
  }
 ],
 "metadata": {
  "kernelspec": {
   "display_name": "Julia 0.6.0",
   "language": "julia",
   "name": "julia-0.6"
  },
  "language_info": {
   "file_extension": ".jl",
   "mimetype": "application/julia",
   "name": "julia",
   "version": "0.6.0"
  }
 },
 "nbformat": 4,
 "nbformat_minor": 1
}
