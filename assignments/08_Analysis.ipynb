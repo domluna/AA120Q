{
 "cells": [
  {
   "cell_type": "markdown",
   "metadata": {
    "collapsed": true
   },
   "source": [
    "## Assignment\n",
    "\n",
    "Your homework is to:\n",
    "\n",
    "- Run your collision avoidance system on the training set and pick three encounters where the system fails. Why does it fail? Is this a problem with your design? How might it be fixed?\n",
    "- Run your collision avoidance system on the training set and compute:\n",
    "   - the number of NMACs\n",
    "   - the number of NMACs in which no advisory was issued\n",
    "   - a histogram over the aircraft separation distance when advisories were issued\n",
    "   - a scatter plot of relative horizontal separation vs. relative vertical separation when advisories were issued\n",
    "   - a scatter plot of vehicle bearing the clockwise bearing from your craft to the intruder at the encounter start vs. the clockwise heading of the intruder relative to the positive north axis (See Lecture 4) for when advisories were issued\n",
    "- Choose a meaninful tuneable parameter in your collision avoidance system, or change your system to include a meaningful tuneable parameter. (For example, a parameter in the Alpha-Beta filter). Use $5$-fold cross validation over the training dataset and plot the cross-validated-normalized-penalty with respect to the tuneable parameter.\n",
    "\n",
    "Turn in your code and writeup (preferably a single Julia Notebook) to Canvas"
   ]
  },
  {
   "cell_type": "code",
   "execution_count": null,
   "metadata": {
    "collapsed": true
   },
   "outputs": [],
   "source": []
  }
 ],
 "metadata": {
  "anaconda-cloud": {},
  "kernelspec": {
   "display_name": "Julia 0.5.0",
   "language": "julia",
   "name": "julia-0.5"
  },
  "language_info": {
   "file_extension": ".jl",
   "mimetype": "application/julia",
   "name": "julia",
   "version": "0.5.0"
  }
 },
 "nbformat": 4,
 "nbformat_minor": 0
}
