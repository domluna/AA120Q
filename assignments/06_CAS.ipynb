{
 "cells": [
  {
   "cell_type": "markdown",
   "metadata": {},
   "source": [
    "# Assignment 6"
   ]
  },
  {
   "cell_type": "markdown",
   "metadata": {},
   "source": [
    "In this assignment, you are expected to write your own collision avoidance system (CAS).\n",
    "You are given a lot of freedom in order to accomplish this task. The implementation you see below is merely _one_ way in which this can be done.\n",
    "\n",
    "Your objective is to find a CAS policy $\\pi(s) \\rightarrow a$ which minimizes collisions and alerts. We want a safe system (few collisions) but we also do not want to alert when we do not need to (few alerts).\n",
    "\n",
    "Collision avoidance systems will be judged according to a _cost function_ $J(\\text{encounter}) \\rightarrow \\mathbb{R}$. \n",
    "We want to minimize the expected penalty accumulated by the CAS.\n",
    "Formally:\n",
    "\n",
    "$$\\min_\\pi \\mathbb{E}\\left[J_\\pi(\\text{encounter})\\right]$$\n",
    "\n",
    "What this means is that we want the policy $\\pi$ which on average produces encounters with minimum penalites.\n",
    "We can estimate the performance of a policy by running a large number of encounters with it and then taking the mean of the accumulated penalty."
   ]
  },
  {
   "cell_type": "markdown",
   "metadata": {},
   "source": [
    "Penalties in this assignment are computed according to:\n",
    "\n",
    "* a penalty of 10 for issuing an advisory - only issue advisories when you need to\n",
    "* a penality equal to the magnitude of the advised climb rate each time a new advisory is issued - weak climb rates are easier on the passengers\n",
    "* a penalty of 50 for a reversal - a change of sign in the advisory\n",
    "* a penalty of 1e5 for an near mid-air collision (NMAC) - being within 100 ft vertically or 500 ft horizontally of another plane"
   ]
  },
  {
   "cell_type": "markdown",
   "metadata": {},
   "source": [
    "### What is Turned In\n",
    "\n",
    "Write all of your code in a file structured identically to \"my_cas.jl\" and turn it in to Coursework."
   ]
  },
  {
   "cell_type": "markdown",
   "metadata": {},
   "source": [
    "## Milestone One: Set Up"
   ]
  },
  {
   "cell_type": "code",
   "execution_count": 31,
   "metadata": {},
   "outputs": [
    {
     "data": {
      "text/plain": [
       "Plots.PlotlyJSBackend()"
      ]
     },
     "execution_count": 31,
     "metadata": {},
     "output_type": "execute_result"
    }
   ],
   "source": [
    "using AA120Q\n",
    "plotlyjs()"
   ]
  },
  {
   "cell_type": "markdown",
   "metadata": {},
   "source": [
    "Here is a dataset of fully-human encounters, which you can then use to collect your own set of encounters to evaluate your Collision Avoidance System (CAS)."
   ]
  },
  {
   "cell_type": "code",
   "execution_count": 32,
   "metadata": {
    "collapsed": true
   },
   "outputs": [],
   "source": [
    "initial, traces = get_dataset(\"small\")\n",
    "encounters = pull_encounters(initial, traces, 500);"
   ]
  },
  {
   "cell_type": "code",
   "execution_count": 33,
   "metadata": {},
   "outputs": [
    {
     "data": {
      "text/html": [
       "<html>\n",
       "<head>\n",
       "     <script src=\"/home/tim/.julia/v0.5/PlotlyJS/deps/plotly-latest.min.js\"></script>\n",
       "</head>\n",
       "<body>\n",
       "     <div id=\"e8da2038-5a61-4c28-a1c0-4fa9a298db83\" class=\"plotly-graph-div\"></div>\n",
       "\n",
       "<script>\n",
       "    window.PLOTLYENV=window.PLOTLYENV || {};\n",
       "    window.PLOTLYENV.BASE_URL=\"https://plot.ly\";\n",
       "    Plotly.newPlot('e8da2038-5a61-4c28-a1c0-4fa9a298db83', [{\"yaxis\":\"y\",\"y\":[-8663.356343901081,-8470.635911654446,-8277.33211172748,-8083.476294029339,-7889.099897995135,-7694.2344474871015,-7498.91154568207,-7303.162869946084,-7107.020166696983,-6910.515246255779,-6713.67997768768,-6516.525042945327,-6319.08742856846,-6121.404174127909,-5923.51236527692,-5725.159476146348,-5526.929445422654,-5329.405850104722,-5132.003001782824,-4934.7288626045465,-4737.591389526054,-4540.598533991149,-4343.75824161056,-4147.034112097706,-3950.430358072427,-3753.9511895768537,-3557.736972845115,-3361.804910023207,-3166.1721785206278,-2970.8559295044292,-2775.539680488231,-2499.320792177682,-2223.101903867134,-1946.883015556585,-1670.6641272460363,-1393.8097166645616,-1116.3698995713617,-838.3948976950236,-559.9350296424597,-280.31572900787364,0.0,280.54799999999926,560.8637290078734,840.4830296424599,1118.9428976950232,1395.5267343780017,1669.6437378357166,1940.7083755357628,2208.1416350062523,2471.3722606457727,2729.8379739641427,2982.986674647444],\"showlegend\":true,\"name\":\"y1\",\"type\":\"scatter\",\"xaxis\":\"x\",\"line\":{\"width\":4,\"dash\":\"solid\",\"color\":\"rgba(82, 227, 246, 1.000)\",\"shape\":\"linear\"},\"x\":[334.6189855606664,381.65540917758483,426.23377933392,468.3468663329183,507.98784029615905,545.1502722712198,579.8281352743232,612.0158052677864,641.7080620721263,668.9000902126662,693.5874797005065,715.5766101685066,734.8633564252334,751.4441002502863,765.315731073083,768.4336671781022,760.7887295535256,742.403424424768,722.7640347600709,701.8713527046356,679.7262209545993,656.3295327230488,631.6822317039898,606.1243166988429,579.6563350008154,552.2788533911403,523.0629107510323,492.0110684489748,459.1260488072018,424.41073486302975,389.6954209188577,340.60055311697,291.5056853150823,242.4108175131946,193.31594971130687,147.94177593828823,106.29650975722396,68.3876897300878,34.22217805312265,11.413692425508222,-0.0,-2.2007138907375416e-13,11.413692425508094,34.22217805312265,68.3876897300878,115.38302555954675,175.10780031310264,247.4344378164669,332.2084434608272,429.2487342138249,538.3480254252074,659.2732736009164],\"mode\":\"lines\"},{\"yaxis\":\"y\",\"y\":[2172.6419947992413,2025.9353555932234,1883.4309754667102,1745.4250523659816,1612.1960767005557,1484.0042983432368,1361.0912546747822,1244.0418897862185,1133.0996581908555,1028.4837814353486,930.3889086651446,838.9848664457828,754.4164976570588,676.8035889693942,606.2408861082137,542.7981958138447,484.2155457699617,430.47267798174573,381.54197145988127,337.3885885356622,297.97063160672644,263.23930998412243,233.13911649729414,207.60801350004343,189.030989096175,171.33319893261302,154.49934415873236,138.5140872916435,123.36205315643757,109.02782982793164,95.49596957387271,82.75098979955948,70.77737399383457,59.5595726764083,49.082004346468,39.32905643253384,30.28508624351194,21.934421920906907,14.261363392149118,7.250183324991706,0.885128082937076,-4.84958131835349,-9.969748253709126,-14.491199530199125,-18.42978442803024,-21.801373740632094,-24.62185881397504,-26.907150585165468,-28.673178620359074,-28.175320194065723,-25.489337871637172,-20.692423645663776],\"showlegend\":true,\"name\":\"y2\",\"type\":\"scatter\",\"xaxis\":\"x\",\"line\":{\"width\":4,\"dash\":\"solid\",\"color\":\"rgba(121, 171, 255, 1.000)\",\"shape\":\"linear\"},\"x\":[-4228.932261893066,-4175.072137739151,-4114.550229294595,-4047.6498497688603,-3974.6671223066905,-3895.9099236648235,-3811.6968069746126,-3721.8814658883143,-3626.8483054063386,-3526.991524269241,-3422.713628965574,-3314.423940067457,-3202.5370961689214,-3087.4715606588575,-2969.648136499377,-2849.488494102018,-2728.502978182391,-2606.8827476095103,-2484.8165209343188,-2362.4902974044194,-2240.0870852401736,-2117.7866375578074,-1995.7651963110154,-1874.1952446078608,-1752.8442323101376,-1632.8346788267716,-1514.1725376084607,-1396.8636345038217,-1280.9136675159452,-1166.32820656543,-1053.1126932599052,-941.2724406700514,-830.8126331121267,-721.7383259370071,-614.0544453257498,-507.76578809168495,-402.87702148904737,-299.3926830281501,-197.31718029711118,-96.65479079013838,2.59033825762122,100.41419002866283,196.8128782751271,291.7826474642219,385.31987291705775,477.4210609408912,568.08284895477,657.3020056085792,745.0754308954793,831.4079553938916,916.24217487198,999.5236409623328],\"mode\":\"lines\"},{\"yaxis\":\"y\",\"y\":[0.0,0.885128082937076],\"showlegend\":true,\"name\":\"y3\",\"type\":\"scatter\",\"xaxis\":\"x\",\"line\":{\"width\":4,\"dash\":\"solid\",\"color\":\"rgba(255, 0, 127, 1.000)\",\"shape\":\"linear\"},\"x\":[-0.0,2.59033825762122],\"mode\":\"lines\"},{\"yaxis\":\"y\",\"y\":[-8663.356343901081],\"showlegend\":true,\"name\":\"y4\",\"type\":\"scatter\",\"xaxis\":\"x\",\"x\":[334.6189855606664],\"mode\":\"markers\",\"marker\":{\"symbol\":\"circle\",\"line\":{\"width\":1,\"color\":\"rgba(0, 0, 0, 1.000)\"},\"size\":8,\"color\":\"rgba(82, 227, 246, 1.000)\"}},{\"yaxis\":\"y\",\"y\":[2172.6419947992413],\"showlegend\":true,\"name\":\"y5\",\"type\":\"scatter\",\"xaxis\":\"x\",\"x\":[-4228.932261893066],\"mode\":\"markers\",\"marker\":{\"symbol\":\"circle\",\"line\":{\"width\":1,\"color\":\"rgba(0, 0, 0, 1.000)\"},\"size\":8,\"color\":\"rgba(121, 171, 255, 1.000)\"}},{\"yaxis\":\"y2\",\"y\":[8273.006246536497,8074.628853288174,7876.25146003985,7677.874066791526,7479.496673543203,7281.119280294879,7082.741887046555,6884.364493798232,6685.987100549908,6487.609707301584,6289.232314053261,6090.854920804937,5892.4775275566135,5694.10013430829,5495.722741059966,5297.345347811643,5098.967954563319,4900.590561314995,4702.213168066672,4503.835774818348,4305.458381570024,4107.080988321702,3908.703595073378,3710.3262018250543,3511.9488085767307,3313.571415328407,3115.1940220800834,2916.8166288317598,2718.439235583436,2520.0618423351125,2321.684449086789,2321.684449086789,2321.684449086789,2321.684449086789,2321.684449086789,2321.684449086789,2321.684449086789,2321.684449086789,2321.684449086789,2321.684449086789,2321.684449086789,2321.684449086789,2321.684449086789,2321.684449086789,2321.684449086789,2321.684449086789,2321.684449086789,2321.684449086789,2321.684449086789,2321.684449086789,2321.684449086789,2321.684449086789],\"showlegend\":true,\"name\":\"y1\",\"type\":\"scatter\",\"xaxis\":\"x2\",\"line\":{\"width\":4,\"dash\":\"solid\",\"color\":\"rgba(82, 227, 246, 1.000)\",\"shape\":\"linear\"},\"x\":[0.0,1.0,2.0,3.0,4.0,5.0,6.0,7.0,8.0,9.0,10.0,11.0,12.0,13.0,14.0,15.0,16.0,17.0,18.0,19.0,20.0,21.0,22.0,23.0,24.0,25.0,26.0,27.0,28.0,29.0,30.0,31.0,32.0,33.0,34.0,35.0,36.0,37.0,38.0,39.0,40.0,41.0,42.0,43.0,44.0,45.0,46.0,47.0,48.0,49.0,50.0,51.0],\"mode\":\"lines\"},{\"yaxis\":\"y2\",\"y\":[1685.3174490867889,1685.3174490867889,1685.3174490867889,1685.3174490867889,1685.3174490867889,1685.3174490867889,1685.3174490867889,1685.3174490867889,1685.3174490867889,1685.3174490867889,1685.3174490867889,1685.3174490867889,1685.3174490867889,1685.3174490867889,1685.3174490867889,1685.3174490867889,1685.3174490867889,1685.3174490867889,1685.3174490867889,1685.3174490867889,1685.3174490867889,1685.3174490867889,1685.3174490867889,1685.3174490867889,1685.3174490867889,1685.3174490867889,1685.3174490867889,1685.3174490867889,1685.3174490867889,1685.3174490867889,1685.3174490867889,1685.3174490867889,1685.3174490867889,1685.3174490867889,1685.3174490867889,1685.3174490867889,1685.3174490867889,1685.3174490867889,1685.3174490867889,1685.3174490867889,1685.3174490867889,1685.3174490867889,1685.3174490867889,1685.3174490867889,1685.3174490867889,1685.3174490867889,1685.3174490867889,1685.3174490867889,1685.3174490867889,1685.3174490867889,1685.3174490867889,1685.3174490867889],\"showlegend\":true,\"name\":\"y2\",\"type\":\"scatter\",\"xaxis\":\"x2\",\"line\":{\"width\":4,\"dash\":\"solid\",\"color\":\"rgba(121, 171, 255, 1.000)\",\"shape\":\"linear\"},\"x\":[0.0,1.0,2.0,3.0,4.0,5.0,6.0,7.0,8.0,9.0,10.0,11.0,12.0,13.0,14.0,15.0,16.0,17.0,18.0,19.0,20.0,21.0,22.0,23.0,24.0,25.0,26.0,27.0,28.0,29.0,30.0,31.0,32.0,33.0,34.0,35.0,36.0,37.0,38.0,39.0,40.0,41.0,42.0,43.0,44.0,45.0,46.0,47.0,48.0,49.0,50.0,51.0],\"mode\":\"lines\"},{\"yaxis\":\"y2\",\"y\":[2321.684449086789,1685.3174490867889],\"showlegend\":true,\"name\":\"y3\",\"type\":\"scatter\",\"xaxis\":\"x2\",\"line\":{\"width\":4,\"dash\":\"solid\",\"color\":\"rgba(255, 0, 127, 1.000)\",\"shape\":\"linear\"},\"x\":[40.0,40.0],\"mode\":\"lines\"},{\"yaxis\":\"y2\",\"y\":[],\"showlegend\":true,\"name\":\"y4\",\"type\":\"scatter\",\"xaxis\":\"x2\",\"x\":[],\"mode\":\"markers\",\"marker\":{\"symbol\":\"circle\",\"line\":{\"width\":1,\"color\":\"rgba(0, 0, 0, 1.000)\"},\"size\":8,\"color\":\"rgba(82, 227, 246, 1.000)\"}}],\n",
       "               {\"yaxis\":{\"type\":\"-\",\"titlefont\":{\"size\":15,\"color\":\"rgba(0, 0, 0, 1.000)\",\"family\":\"Helvetica\"},\"title\":\"North (ft)\",\"tickfont\":{\"size\":11,\"color\":\"rgba(0, 0, 0, 1.000)\",\"family\":\"Helvetica\"},\"ticks\":\"inside\",\"range\":[-9163.356343901081,9163.356343901081],\"tickmode\":\"array\",\"showgrid\":true,\"tickvals\":[-5000.0,0.0,5000.0],\"domain\":[0.08565726159230101,0.9901574803149606],\"ticktext\":[\"-5000\",\"0\",\"5000\"],\"tickangle\":0,\"zeroline\":false,\"linecolor\":\"rgba(0, 0, 0, 1.000)\",\"tickcolor\":\"rgba(0, 0, 0, 1.000)\",\"anchor\":\"x\"},\"annotations\":[{\"text\":\"mid dist: 636 ft\",\"y\":2003.5009490867888,\"xref\":\"x2\",\"font\":{\"size\":20,\"color\":\"rgba(0, 0, 0, 1.000)\",\"family\":\"Helvetica\"},\"xanchor\":\"center\",\"x\":41,\"yref\":\"x2\",\"showarrow\":false,\"yanchor\":\"middle\",\"rotation\":-0.0}],\"width\":950,\"showlegend\":false,\"legend\":{\"bgcolor\":\"rgba(255, 255, 255, 1.000)\",\"font\":{\"size\":11,\"color\":\"rgba(0, 0, 0, 1.000)\",\"family\":\"Helvetica\"},\"bordercolor\":\"rgba(0, 0, 0, 1.000)\"},\"xaxis\":{\"type\":\"-\",\"titlefont\":{\"size\":15,\"color\":\"rgba(0, 0, 0, 1.000)\",\"family\":\"Helvetica\"},\"title\":\"East (ft)\",\"tickfont\":{\"size\":11,\"color\":\"rgba(0, 0, 0, 1.000)\",\"family\":\"Helvetica\"},\"ticks\":\"inside\",\"range\":[-9163.356343901081,9163.356343901081],\"tickmode\":\"array\",\"showgrid\":true,\"tickvals\":[-5000.0,0.0,5000.0],\"domain\":[0.07115393470553022,0.5005341437583459],\"ticktext\":[\"-5000\",\"0\",\"5000\"],\"tickangle\":0,\"zeroline\":false,\"linecolor\":\"rgba(0, 0, 0, 1.000)\",\"tickcolor\":\"rgba(0, 0, 0, 1.000)\",\"anchor\":\"y\"},\"yaxis2\":{\"type\":\"-\",\"titlefont\":{\"size\":15,\"color\":\"rgba(0, 0, 0, 1.000)\",\"family\":\"Helvetica\"},\"title\":\"Altitude (ft)\",\"tickfont\":{\"size\":11,\"color\":\"rgba(0, 0, 0, 1.000)\",\"family\":\"Helvetica\"},\"ticks\":\"inside\",\"tickmode\":\"array\",\"showgrid\":true,\"tickvals\":[2500.0,5000.0,7500.0],\"domain\":[0.08565726159230101,0.9901574803149606],\"ticktext\":[\"2500\",\"5000\",\"7500\"],\"tickangle\":0,\"zeroline\":false,\"linecolor\":\"rgba(0, 0, 0, 1.000)\",\"tickcolor\":\"rgba(0, 0, 0, 1.000)\",\"anchor\":\"x2\"},\"xaxis2\":{\"type\":\"-\",\"titlefont\":{\"size\":15,\"color\":\"rgba(0, 0, 0, 1.000)\",\"family\":\"Helvetica\"},\"title\":\"Time (s)\",\"tickfont\":{\"size\":11,\"color\":\"rgba(0, 0, 0, 1.000)\",\"family\":\"Helvetica\"},\"ticks\":\"inside\",\"tickmode\":\"array\",\"showgrid\":true,\"tickvals\":[0.0,20.0,40.0],\"domain\":[0.5664755721324308,0.9958557811852466],\"ticktext\":[\"0\",\"20\",\"40\"],\"tickangle\":0,\"zeroline\":false,\"linecolor\":\"rgba(0, 0, 0, 1.000)\",\"tickcolor\":\"rgba(0, 0, 0, 1.000)\",\"anchor\":\"y2\"},\"margin\":{\"r\":0,\"l\":0,\"b\":0,\"t\":20},\"height\":400,\"plot_bgcolor\":\"rgba(255, 255, 255, 1.000)\",\"paper_bgcolor\":\"rgba(255, 255, 255, 1.000)\"}, {showLink: false});\n",
       "\n",
       " </script>\n",
       "\n",
       "</body>\n",
       "</html>\n"
      ]
     },
     "execution_count": 33,
     "metadata": {},
     "output_type": "execute_result"
    }
   ],
   "source": [
    "plot_encounter(encounters[1])   # Sample Plot"
   ]
  },
  {
   "cell_type": "markdown",
   "metadata": {},
   "source": [
    "Here we're simulating trajectories using the [provided] traffic and collision avoidance system (TCAS). You will then design your own CAS (see below), and then compare the two results, to see if your model gets similar results as the standard model."
   ]
  },
  {
   "cell_type": "code",
   "execution_count": 34,
   "metadata": {},
   "outputs": [
    {
     "data": {
      "text/html": [
       "<html>\n",
       "<head>\n",
       "     <script src=\"/home/tim/.julia/v0.5/PlotlyJS/deps/plotly-latest.min.js\"></script>\n",
       "</head>\n",
       "<body>\n",
       "     <div id=\"82fbd6f1-17a1-40bb-bee6-ca0c91125edf\" class=\"plotly-graph-div\"></div>\n",
       "\n",
       "<script>\n",
       "    window.PLOTLYENV=window.PLOTLYENV || {};\n",
       "    window.PLOTLYENV.BASE_URL=\"https://plot.ly\";\n",
       "    Plotly.newPlot('82fbd6f1-17a1-40bb-bee6-ca0c91125edf', [{\"yaxis\":\"y\",\"y\":[-8663.356343901081,-8470.635911654446,-8277.332111727479,-8083.4762940293385,-7889.099897995135,-7694.234447487101,-7498.911545682069,-7303.162869946083,-7107.0201666969815,-6910.515246255777,-6633.255575098656,-6355.545626209305,-6077.437498360063,-5798.983365022193,-5520.235464578069,-5240.838092280529,-4961.6137767818955,-4683.384537265933,-4405.325380442252,-4127.447521691292,-3849.7621690809256,-3572.280522914382,-3295.0137752784917,-3017.910653189708,-2740.9770904910806,-2464.2190173947424,-2187.834152003749,-1911.8467250435026,-1636.2809323958872,-1361.1609329780076,-1086.040933560128,-810.9209341422485,-535.800934724369,-260.68093530648946,14.439064111390053,290.1920574851746,566.52812843251,843.3972550232374,1120.749318834286,1399.256202626119,1678.456744171864,1957.8886326599177,2237.089174205663,2515.596057997496,2792.9481218085443,3068.4316177151127,3341.458094264137,3611.444348362736,3877.81367103962,4139.997079334611,4397.434531684883,4649.576124211765],\"showlegend\":true,\"name\":\"y1\",\"type\":\"scatter\",\"xaxis\":\"x\",\"line\":{\"width\":4,\"dash\":\"solid\",\"color\":\"rgba(82, 227, 246, 1.000)\",\"shape\":\"linear\"},\"x\":[334.6189855606664,381.65540917758494,426.23377933392015,468.3468663329184,507.987840296159,545.1502722712202,579.8281352743234,612.0158052677863,641.7080620721263,668.9000902126663,703.6744349778081,734.648046195655,761.8151131736993,785.1705393324227,804.7099431614213,809.1018285458612,798.3332660457239,772.435957645634,744.7721616208042,715.3429937769517,684.1496411252045,651.1933618342243,616.4754851794587,580.4749291747453,543.192464730377,504.62889020723446,463.47568271617365,419.7364501684627,373.41502719278753,324.5154747990693,275.61592240535106,226.71637001163282,177.81681761791458,128.91726522419634,80.0177128304781,34.82405233038644,-6.655535389228042,-44.41354175725187,-78.44313187749864,-101.16087790483408,-112.52916293656321,-112.52916293656322,-101.16087790483412,-78.4431318774987,-44.41354175725194,2.3948312874890547,61.88200139353089,133.9208999262449,218.3576469067989,315.0118797102406,423.6771383323116,544.1213064020354],\"mode\":\"lines\"},{\"yaxis\":\"y\",\"y\":[2172.6419947992413,2025.935355593223,1883.43097546671,1745.4250523659814,1612.196076700555,1484.0042983432363,1361.0912546747818,1244.0418897862176,1133.0996581908548,1028.483781435348,930.3889086651446,838.9848664457826,754.4164976570585,676.8035889693939,606.2408861082132,542.7981958138441,484.215545769961,430.4726779817454,381.54197145988087,337.3885885356617,297.9706316067261,263.239309984122,233.13911649729374,207.60801350004306,189.03098909617498,171.33319893261285,154.49934415873193,138.51408729164308,123.36205315643733,109.02782982793137,95.4959695738726,82.75098979955948,70.77737399383454,59.559572676408024,49.08200434646784,39.32905643253365,30.285086243511646,21.934421920906566,14.261363392148636,7.25018332499135,0.8851280829367747,-4.849581318354009,-9.96974825370971,-14.491199530199745,-18.429784428030707,-21.801373740632304,-24.621858813975283,-26.907150585165738,-28.673178620359277,-28.175320194066195,-25.489337871637694,-20.692423645664356],\"showlegend\":true,\"name\":\"y2\",\"type\":\"scatter\",\"xaxis\":\"x\",\"line\":{\"width\":4,\"dash\":\"solid\",\"color\":\"rgba(121, 171, 255, 1.000)\",\"shape\":\"linear\"},\"x\":[-4228.932261893066,-4175.072137739151,-4114.550229294595,-4047.64984976886,-3974.66712230669,-3895.9099236648235,-3811.6968069746126,-3721.8814658883143,-3626.8483054063386,-3526.9915242692414,-3422.7136289655746,-3314.4239400674574,-3202.537096168922,-3087.471560658858,-2969.648136499378,-2849.488494102019,-2728.502978182392,-2606.8827476095107,-2484.816520934319,-2362.4902974044203,-2240.087085240174,-2117.786637557808,-1995.7651963110156,-1874.195244607861,-1752.8442323101378,-1632.8346788267718,-1514.172537608461,-1396.8636345038221,-1280.9136675159457,-1166.3282065654303,-1053.1126932599054,-941.2724406700515,-830.8126331121268,-721.7383259370074,-614.0544453257502,-507.76578809168564,-402.87702148904816,-299.3926830281508,-197.31718029711192,-96.65479079013927,2.590338257620431,100.41419002866209,196.8128782751262,291.7826474642209,385.31987291705684,477.42106094089036,568.0828489547694,657.3020056085784,745.0754308954783,831.4079553938907,916.2421748719792,999.5236409623324],\"mode\":\"lines\"},{\"yaxis\":\"y\",\"y\":[566.52812843251,30.285086243511646],\"showlegend\":true,\"name\":\"y3\",\"type\":\"scatter\",\"xaxis\":\"x\",\"line\":{\"width\":4,\"dash\":\"solid\",\"color\":\"rgba(255, 0, 127, 1.000)\",\"shape\":\"linear\"},\"x\":[-6.655535389228042,-402.87702148904816],\"mode\":\"lines\"},{\"yaxis\":\"y\",\"y\":[-8663.356343901081],\"showlegend\":true,\"name\":\"y4\",\"type\":\"scatter\",\"xaxis\":\"x\",\"x\":[334.6189855606664],\"mode\":\"markers\",\"marker\":{\"symbol\":\"circle\",\"line\":{\"width\":1,\"color\":\"rgba(0, 0, 0, 1.000)\"},\"size\":8,\"color\":\"rgba(82, 227, 246, 1.000)\"}},{\"yaxis\":\"y\",\"y\":[2172.6419947992413],\"showlegend\":true,\"name\":\"y5\",\"type\":\"scatter\",\"xaxis\":\"x\",\"x\":[-4228.932261893066],\"mode\":\"markers\",\"marker\":{\"symbol\":\"circle\",\"line\":{\"width\":1,\"color\":\"rgba(0, 0, 0, 1.000)\"},\"size\":8,\"color\":\"rgba(121, 171, 255, 1.000)\"}},{\"yaxis\":\"y2\",\"y\":[8273.006246536497,8074.628853288174,7876.25146003985,7677.874066791526,7479.496673543203,7281.119280294879,7082.741887046555,6884.364493798232,6685.987100549908,6487.609707301584,6462.609707301584,6437.609707301584,6412.609707301584,6387.609707301584,6362.609707301584,6337.609707301584,6312.609707301584,6287.609707301584,6262.609707301584,6237.609707301584,6212.609707301584,6187.609707301584,6162.609707301584,6137.609707301584,6112.609707301584,6087.609707301584,6062.609707301584,6037.609707301584,6012.609707301584,5987.609707301584,5962.609707301584,5937.609707301584,5912.609707301584,5887.609707301584,5862.609707301584,5837.609707301584,5812.609707301584,5787.609707301584,5762.609707301584,5737.609707301584,5712.609707301584,5687.609707301584,5662.609707301584,5637.609707301584,5612.609707301584,5587.609707301584,5562.609707301584,5537.609707301584,5512.609707301584,5487.609707301584,5462.609707301584,5437.609707301584],\"showlegend\":true,\"name\":\"y1\",\"type\":\"scatter\",\"xaxis\":\"x2\",\"line\":{\"width\":4,\"dash\":\"solid\",\"color\":\"rgba(82, 227, 246, 1.000)\",\"shape\":\"linear\"},\"x\":[0.0,1.0,2.0,3.0,4.0,5.0,6.0,7.0,8.0,9.0,10.0,11.0,12.0,13.0,14.0,15.0,16.0,17.0,18.0,19.0,20.0,21.0,22.0,23.0,24.0,25.0,26.0,27.0,28.0,29.0,30.0,31.0,32.0,33.0,34.0,35.0,36.0,37.0,38.0,39.0,40.0,41.0,42.0,43.0,44.0,45.0,46.0,47.0,48.0,49.0,50.0,51.0],\"mode\":\"lines\"},{\"yaxis\":\"y2\",\"y\":[1685.3174490867889,1685.3174490867889,1685.3174490867889,1685.3174490867889,1685.3174490867889,1685.3174490867889,1685.3174490867889,1685.3174490867889,1685.3174490867889,1685.3174490867889,1685.3174490867889,1685.3174490867889,1685.3174490867889,1685.3174490867889,1685.3174490867889,1685.3174490867889,1685.3174490867889,1685.3174490867889,1685.3174490867889,1685.3174490867889,1685.3174490867889,1685.3174490867889,1685.3174490867889,1685.3174490867889,1685.3174490867889,1685.3174490867889,1685.3174490867889,1685.3174490867889,1685.3174490867889,1685.3174490867889,1685.3174490867889,1685.3174490867889,1685.3174490867889,1685.3174490867889,1685.3174490867889,1685.3174490867889,1685.3174490867889,1685.3174490867889,1685.3174490867889,1685.3174490867889,1685.3174490867889,1685.3174490867889,1685.3174490867889,1685.3174490867889,1685.3174490867889,1685.3174490867889,1685.3174490867889,1685.3174490867889,1685.3174490867889,1685.3174490867889,1685.3174490867889,1685.3174490867889],\"showlegend\":true,\"name\":\"y2\",\"type\":\"scatter\",\"xaxis\":\"x2\",\"line\":{\"width\":4,\"dash\":\"solid\",\"color\":\"rgba(121, 171, 255, 1.000)\",\"shape\":\"linear\"},\"x\":[0.0,1.0,2.0,3.0,4.0,5.0,6.0,7.0,8.0,9.0,10.0,11.0,12.0,13.0,14.0,15.0,16.0,17.0,18.0,19.0,20.0,21.0,22.0,23.0,24.0,25.0,26.0,27.0,28.0,29.0,30.0,31.0,32.0,33.0,34.0,35.0,36.0,37.0,38.0,39.0,40.0,41.0,42.0,43.0,44.0,45.0,46.0,47.0,48.0,49.0,50.0,51.0],\"mode\":\"lines\"},{\"yaxis\":\"y2\",\"y\":[5812.609707301584,1685.3174490867889],\"showlegend\":true,\"name\":\"y3\",\"type\":\"scatter\",\"xaxis\":\"x2\",\"line\":{\"width\":4,\"dash\":\"solid\",\"color\":\"rgba(255, 0, 127, 1.000)\",\"shape\":\"linear\"},\"x\":[36.0,36.0],\"mode\":\"lines\"},{\"yaxis\":\"y2\",\"y\":[6487.609707301584],\"showlegend\":true,\"name\":\"y4\",\"type\":\"scatter\",\"xaxis\":\"x2\",\"x\":[9.0],\"mode\":\"markers\",\"marker\":{\"symbol\":\"circle\",\"line\":{\"width\":1,\"color\":\"rgba(0, 0, 0, 1.000)\"},\"size\":8,\"color\":\"rgba(82, 227, 246, 1.000)\"}}],\n",
       "               {\"yaxis\":{\"type\":\"-\",\"titlefont\":{\"size\":15,\"color\":\"rgba(0, 0, 0, 1.000)\",\"family\":\"Helvetica\"},\"title\":\"North (ft)\",\"tickfont\":{\"size\":11,\"color\":\"rgba(0, 0, 0, 1.000)\",\"family\":\"Helvetica\"},\"ticks\":\"inside\",\"range\":[-9163.356343901081,9163.356343901081],\"tickmode\":\"array\",\"showgrid\":true,\"tickvals\":[-5000.0,0.0,5000.0],\"domain\":[0.08565726159230101,0.9901574803149606],\"ticktext\":[\"-5000\",\"0\",\"5000\"],\"tickangle\":0,\"zeroline\":false,\"linecolor\":\"rgba(0, 0, 0, 1.000)\",\"tickcolor\":\"rgba(0, 0, 0, 1.000)\",\"anchor\":\"x\"},\"annotations\":[{\"text\":\"mid dist: 4181 ft\",\"y\":3748.9635781941865,\"xref\":\"x2\",\"font\":{\"size\":20,\"color\":\"rgba(0, 0, 0, 1.000)\",\"family\":\"Helvetica\"},\"xanchor\":\"center\",\"x\":37,\"yref\":\"x2\",\"showarrow\":false,\"yanchor\":\"middle\",\"rotation\":-0.0}],\"width\":950,\"showlegend\":false,\"legend\":{\"bgcolor\":\"rgba(255, 255, 255, 1.000)\",\"font\":{\"size\":11,\"color\":\"rgba(0, 0, 0, 1.000)\",\"family\":\"Helvetica\"},\"bordercolor\":\"rgba(0, 0, 0, 1.000)\"},\"xaxis\":{\"type\":\"-\",\"titlefont\":{\"size\":15,\"color\":\"rgba(0, 0, 0, 1.000)\",\"family\":\"Helvetica\"},\"title\":\"East (ft)\",\"tickfont\":{\"size\":11,\"color\":\"rgba(0, 0, 0, 1.000)\",\"family\":\"Helvetica\"},\"ticks\":\"inside\",\"range\":[-9163.356343901081,9163.356343901081],\"tickmode\":\"array\",\"showgrid\":true,\"tickvals\":[-5000.0,0.0,5000.0],\"domain\":[0.07115393470553022,0.5005341437583459],\"ticktext\":[\"-5000\",\"0\",\"5000\"],\"tickangle\":0,\"zeroline\":false,\"linecolor\":\"rgba(0, 0, 0, 1.000)\",\"tickcolor\":\"rgba(0, 0, 0, 1.000)\",\"anchor\":\"y\"},\"yaxis2\":{\"type\":\"-\",\"titlefont\":{\"size\":15,\"color\":\"rgba(0, 0, 0, 1.000)\",\"family\":\"Helvetica\"},\"title\":\"Altitude (ft)\",\"tickfont\":{\"size\":11,\"color\":\"rgba(0, 0, 0, 1.000)\",\"family\":\"Helvetica\"},\"ticks\":\"inside\",\"tickmode\":\"array\",\"showgrid\":true,\"tickvals\":[2500.0,5000.0,7500.0],\"domain\":[0.08565726159230101,0.9901574803149606],\"ticktext\":[\"2500\",\"5000\",\"7500\"],\"tickangle\":0,\"zeroline\":false,\"linecolor\":\"rgba(0, 0, 0, 1.000)\",\"tickcolor\":\"rgba(0, 0, 0, 1.000)\",\"anchor\":\"x2\"},\"xaxis2\":{\"type\":\"-\",\"titlefont\":{\"size\":15,\"color\":\"rgba(0, 0, 0, 1.000)\",\"family\":\"Helvetica\"},\"title\":\"Time (s)\",\"tickfont\":{\"size\":11,\"color\":\"rgba(0, 0, 0, 1.000)\",\"family\":\"Helvetica\"},\"ticks\":\"inside\",\"tickmode\":\"array\",\"showgrid\":true,\"tickvals\":[0.0,20.0,40.0],\"domain\":[0.5664755721324308,0.9958557811852466],\"ticktext\":[\"0\",\"20\",\"40\"],\"tickangle\":0,\"zeroline\":false,\"linecolor\":\"rgba(0, 0, 0, 1.000)\",\"tickcolor\":\"rgba(0, 0, 0, 1.000)\",\"anchor\":\"y2\"},\"margin\":{\"r\":0,\"l\":0,\"b\":0,\"t\":20},\"height\":400,\"plot_bgcolor\":\"rgba(255, 255, 255, 1.000)\",\"paper_bgcolor\":\"rgba(255, 255, 255, 1.000)\"}, {showLink: false});\n",
       "\n",
       " </script>\n",
       "\n",
       "</body>\n",
       "</html>\n"
      ]
     },
     "execution_count": 34,
     "metadata": {},
     "output_type": "execute_result"
    }
   ],
   "source": [
    "srand(0)\n",
    "enc = rand(encounters[1], TCAS())\n",
    "plot_encounter(enc)"
   ]
  },
  {
   "cell_type": "markdown",
   "metadata": {},
   "source": [
    "## Milestone Two: Improving the DCAS"
   ]
  },
  {
   "cell_type": "markdown",
   "metadata": {},
   "source": [
    "We have provided you with a basic CAS that you will need to improve in order to find the sweet spot between minizing collisions and alerts to the pilot. In order to improve the the DCAS, we would like you to decide whether going up or going down is better (DCAS always tells the host aircraft to fly up). Incorporate the climb rate of each aircraft and calculating whether or not you'll pass over them or below them and then decide whether to pull up or pull down.\n",
    "\n",
    "**(Optional)** For those of you who would like more of a challenge, you can also use apredictive model to estimate what the other plane will do. This will entail modeling the problem as a Markov Decision Process. You can use POMDPs.jl to solve it. You may want to go to office hours as well if you're interesting in implementing this solution."
   ]
  },
  {
   "cell_type": "markdown",
   "metadata": {},
   "source": [
    "### Demonstrative Collision Avoidance System - (DCAS)\n",
    "\n",
    "Here is a demonstrative collision avoidance system, which is a fully-functional out-of-the-box CAS. It will leverage the model and the AA120Q API. The two functions reset() and update() are implemented here. Use it as a starting point to design your own CAS.\n",
    "\n",
    "The model will issue an Advisory (or none) at each timestep. Issuing ADVISORY_NONE or your previous advisory is equivalent to issuing no advisory."
   ]
  },
  {
   "cell_type": "code",
   "execution_count": 35,
   "metadata": {
    "collapsed": true
   },
   "outputs": [],
   "source": [
    "type DemoCAS <: FullyObservableCollisionAvoidanceSystem\n",
    "    range_threshold::Float64\n",
    "    last_advisory::Advisory\n",
    "    DemoCAS(range_threshold::Float64, last_advisory::Advisory=ADVISORY_NONE) = new(range_threshold, last_advisory)\n",
    "end"
   ]
  },
  {
   "cell_type": "markdown",
   "metadata": {},
   "source": [
    "A reset function to start it anew"
   ]
  },
  {
   "cell_type": "code",
   "execution_count": 12,
   "metadata": {},
   "outputs": [
    {
     "data": {
      "text/plain": [
       "reset! (generic function with 3 methods)"
      ]
     },
     "execution_count": 12,
     "metadata": {},
     "output_type": "execute_result"
    }
   ],
   "source": [
    "function AA120Q.reset!(dcas::DemoCAS)\n",
    "    dcas.last_advisory = ADVISORY_NONE\n",
    "    dcas\n",
    "end"
   ]
  },
  {
   "cell_type": "markdown",
   "metadata": {},
   "source": [
    "The update function issues an advisory"
   ]
  },
  {
   "cell_type": "code",
   "execution_count": 13,
   "metadata": {},
   "outputs": [
    {
     "data": {
      "text/plain": [
       "update! (generic function with 5 methods)"
      ]
     },
     "execution_count": 13,
     "metadata": {},
     "output_type": "execute_result"
    }
   ],
   "source": [
    "function AA120Q.update!(dcas::DemoCAS, s1::AircraftState, s2::AircraftState, params::EncounterSimParams)\n",
    "\n",
    "    # pull TCAS observations\n",
    "    x1, y1, h1 = s1.e, s1.n, s1.h\n",
    "    x2, y2, h2 = s2.e, s2.n, s2.h\n",
    "\n",
    "    range = norm([(x2 - x1), (y2 - y1)]) # range [ft]\n",
    "    relalt = abs(h1 - h2) # relative altitude [ft]\n",
    "\n",
    "    # test for activation\n",
    "    if is_no_advisory(dcas.last_advisory) && range < dcas.range_threshold\n",
    "        dcas.last_advisory = Advisory(CLIMB_RATE_MAX) # climb!\n",
    "    end\n",
    "        \n",
    "    dcas.last_advisory\n",
    "end"
   ]
  },
  {
   "cell_type": "markdown",
   "metadata": {},
   "source": [
    "You can now simulate trajectories with your custom CAS..."
   ]
  },
  {
   "cell_type": "code",
   "execution_count": 14,
   "metadata": {},
   "outputs": [
    {
     "data": {
      "text/html": [
       "<img src=\"data:image/png;base64,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\" />"
      ]
     },
     "execution_count": 14,
     "metadata": {},
     "output_type": "execute_result"
    }
   ],
   "source": [
    "srand(0)\n",
    "enc = rand(encounters[1], DemoCAS(1000.0))\n",
    "plot_encounter(enc)"
   ]
  },
  {
   "cell_type": "markdown",
   "metadata": {
    "collapsed": true
   },
   "source": [
    "## Milestone Three: Pull Evaluation Metrics"
   ]
  },
  {
   "cell_type": "markdown",
   "metadata": {},
   "source": [
    "Use `evaluate` to report the number of advisories and near midair collisions (NMACs). Remember that a good safety system will minimize both the number of collisions and the number of alerts. We will measure performance based on the average cost per trajectory, `CASEval.normalized`. Try to minimize it!"
   ]
  },
  {
   "cell_type": "code",
   "execution_count": 22,
   "metadata": {},
   "outputs": [
    {
     "data": {
      "text/plain": [
       "CASEval(n_encounters: 3, n_advisories: 3, n_NMACs: 0, penalty: 400.00, normalized: 133.33)"
      ]
     },
     "execution_count": 22,
     "metadata": {},
     "output_type": "execute_result"
    }
   ],
   "source": [
    "# run every encounter once\n",
    "evaluate(DemoCAS(1000.0), encounters)"
   ]
  },
  {
   "cell_type": "code",
   "execution_count": 23,
   "metadata": {},
   "outputs": [
    {
     "data": {
      "text/plain": [
       "CASEval(n_encounters: 50, n_advisories: 50, n_NMACs: 0, penalty: 6666.67, normalized: 133.33)"
      ]
     },
     "execution_count": 23,
     "metadata": {},
     "output_type": "execute_result"
    }
   ],
   "source": [
    "# randomly sample 50 encounters from `encounters`\n",
    "evaluate(DemoCAS(1000.0), encounters, 50)"
   ]
  }
 ],
 "metadata": {
  "anaconda-cloud": {},
  "kernelspec": {
   "display_name": "Julia 0.5.2",
   "language": "julia",
   "name": "julia-0.5"
  },
  "language_info": {
   "file_extension": ".jl",
   "mimetype": "application/julia",
   "name": "julia",
   "version": "0.5.2"
  },
  "widgets": {
   "state": {
    "1cc8a035-0e8b-4c6f-950a-5dd05e93e0e7": {
     "views": [
      {
       "cell_index": 25
      }
     ]
    },
    "312df1de-a0c4-448d-8a19-948a9f3c2305": {
     "views": [
      {
       "cell_index": 29
      }
     ]
    },
    "5aa7cba0-6260-459e-a600-6fa10a7bbcdc": {
     "views": [
      {
       "cell_index": 25
      }
     ]
    },
    "64df1364-e14d-44fe-9791-ce380502aa84": {
     "views": [
      {
       "cell_index": 25
      }
     ]
    },
    "6894acf4-a441-4ef3-8b3d-f3a5399ed73b": {
     "views": [
      {
       "cell_index": 25
      }
     ]
    },
    "789c5733-0218-4582-bc6c-3d25e1483877": {
     "views": [
      {
       "cell_index": 25
      }
     ]
    },
    "8db3a00a-f84d-4243-b8ff-2a3a3f476a6b": {
     "views": [
      {
       "cell_index": 29
      }
     ]
    },
    "991c59ab-72bc-48eb-b4e9-ef656638902c": {
     "views": [
      {
       "cell_index": 25
      }
     ]
    },
    "9a419198-2ab8-4c49-b3b5-77520fcf9dc2": {
     "views": [
      {
       "cell_index": 25
      }
     ]
    },
    "9aea58ee-b62a-48ed-a6fe-c28dc0f7d6ac": {
     "views": [
      {
       "cell_index": 29
      }
     ]
    },
    "b2dc9568-6a82-47b7-a317-fdbf22d13849": {
     "views": [
      {
       "cell_index": 25
      }
     ]
    },
    "bdd3534d-c7ac-4425-b0b8-cd11c2a6e71d": {
     "views": [
      {
       "cell_index": 25
      }
     ]
    },
    "bf0b5edc-97f3-4bdd-9e20-18ab71e62d98": {
     "views": [
      {
       "cell_index": 25
      }
     ]
    }
   },
   "version": "1.2.0"
  }
 },
 "nbformat": 4,
 "nbformat_minor": 1
}
