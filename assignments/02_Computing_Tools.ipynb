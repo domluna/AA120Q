{
 "cells": [
  {
   "cell_type": "markdown",
   "metadata": {},
   "source": [
    "# Assignment 1"
   ]
  },
  {
   "cell_type": "markdown",
   "metadata": {},
   "source": [
    "<img src=\"figures/buffon.png\" alt=\"Tossing Needles\" width=\"600\" align=\"middle\">\n",
    "\n",
    "Buffon's Needle Problem was first proposed by Georges Buffon in 1737. By randomly throwing needles onto a hard floor marked with equally spaced lines, Buffon was able to derive a mathematial expression which could be used to calculate the value of pi. Specifically, the probability that a needle of length equal to the width of parallel boards overlaps with a board edge is $\\frac{2}{\\pi}$. \n",
    "\n",
    "One can estimate pi by dropping a large number of pins and using the ratio of overlaps to non-overlaps to estimate pi.\n",
    "The accuracy of this experimental value of pi increases with an increasing number of random throws. \n",
    "See [Wikipedia](https://en.wikipedia.org/wiki/Buffon%27s_needle) for a detailed problem description and background."
   ]
  },
  {
   "cell_type": "markdown",
   "metadata": {},
   "source": [
    "# Buffon's Needles Problem"
   ]
  },
  {
   "cell_type": "markdown",
   "metadata": {},
   "source": [
    "Your task is to develop an algorithm that estimates pi based on the above description, and write a program to implement this  algorithm.\n",
    "\n",
    "1.\tYour algorithm must be implemented from scratch in Julia.\n",
    "2.\tYour function should have the following signature: `buffon(n::Int)`.\n",
    "3.  Your function should return $\\hat{\\pi}$, your estimate for pi.\n",
    "4.  Plot how your algorithm converges as the sample count is increased using [Plots.jl](https://github.com/tbreloff/Plots.jl)\n",
    "5.\tAlthough you may discuss your algorithm with others, you must not share code."
   ]
  },
  {
   "cell_type": "markdown",
   "metadata": {},
   "source": [
    "## Milestone One: Implementing buffon(n::Int)"
   ]
  },
  {
   "cell_type": "markdown",
   "metadata": {},
   "source": [
    "Our goal is to implement a function, buffon(n::Int). Buffon(n::Int) takes in an integer parameter, n as the number of trials run, returning an estimate for pi based on the number of trials. We can divide the implementation of the function buffon(n::Int) into three parts: \n",
    "1. Throwing a needle\n",
    "2. Checking whether the needle overlaps with a floorboard line\n",
    "3. Use your result to estimate ${\\pi}$"
   ]
  },
  {
   "cell_type": "markdown",
   "metadata": {},
   "source": [
    "### Part 1: Throwing a Needle"
   ]
  },
  {
   "cell_type": "markdown",
   "metadata": {},
   "source": [
    "To throw a needle, we can keep track of where it lands and how it lands. To do so, choose random x and y to specify the location of the needle and an angle theta to specify in what orientation the needle lies once it lands. Since we are simulating throws, choose random values for x, y, and $\\theta$. Remember that the number of needles that you throw depends on the integer value that you pass in. You want to use the rand() function to select a random number within a given range."
   ]
  },
  {
   "cell_type": "code",
   "execution_count": 3,
   "metadata": {},
   "outputs": [
    {
     "data": {
      "text/plain": [
       "8"
      ]
     },
     "execution_count": 3,
     "metadata": {},
     "output_type": "execute_result"
    }
   ],
   "source": [
    "#Example\n",
    "rand(0:10) "
   ]
  },
  {
   "cell_type": "markdown",
   "metadata": {},
   "source": [
    "Implement this function:"
   ]
  },
  {
   "cell_type": "code",
   "execution_count": 2,
   "metadata": {
    "collapsed": true
   },
   "outputs": [],
   "source": [
    "function throw_needle()\n",
    "    # throw a needle by choosing random values for x, y, and θ\n",
    "    \n",
    "    (x,y,θ) # returns values\n",
    "end"
   ]
  },
  {
   "cell_type": "markdown",
   "metadata": {},
   "source": [
    "### Part 2: Determine Overlap"
   ]
  },
  {
   "cell_type": "markdown",
   "metadata": {},
   "source": [
    "After you have implemented a means of throwing a needle, you will need to decide whether or not it overlaps with a board edge. Think about how you will want to define your floor, remembering that the width of each board on the floor is the same as the length of the needle. You will want to make use of conditionals such as if statements. (Think about which condition you really need to check within the if statement)"
   ]
  },
  {
   "cell_type": "code",
   "execution_count": 1,
   "metadata": {},
   "outputs": [
    {
     "name": "stdout",
     "output_type": "stream",
     "text": [
      "x is less than y\n"
     ]
    }
   ],
   "source": [
    "#Example:\n",
    "\n",
    "x=2\n",
    "y=5\n",
    "\n",
    "if x < y\n",
    "    println(\"x is less than y\")\n",
    "end\n",
    "\n",
    "#Also useful:\n",
    "if x < 2 || x > 5 \n",
    "    println(\"x is less than two or x is greater than five\")\n",
    "end\n",
    "    \n",
    "if x > 2 && x < 4\n",
    "    println(\"x is between two and four\")\n",
    "end\n",
    "        "
   ]
  },
  {
   "cell_type": "markdown",
   "metadata": {},
   "source": [
    "Implement this function:"
   ]
  },
  {
   "cell_type": "code",
   "execution_count": null,
   "metadata": {
    "collapsed": true
   },
   "outputs": [],
   "source": [
    "function needle_overlaps(x,y,θ)\n",
    "    # check if the needle overlaps with a board edge and return true if so \n",
    "end"
   ]
  },
  {
   "cell_type": "markdown",
   "metadata": {},
   "source": [
    "### Part 3: Estimating for pi"
   ]
  },
  {
   "cell_type": "markdown",
   "metadata": {},
   "source": [
    "Recount that Buffon's Needles Problem tells us that the ratio of overlaps to nonoverlaps is $\\frac{2}{\\pi}$. Now that you are able to run the specified number of trials, you have an estimate for $\\frac{2}{\\pi}$ and with some algebra we can then get an estimate for ${\\pi}$."
   ]
  },
  {
   "cell_type": "markdown",
   "metadata": {},
   "source": [
    "### Starter Code: "
   ]
  },
  {
   "cell_type": "code",
   "execution_count": 1,
   "metadata": {},
   "outputs": [
    {
     "data": {
      "text/plain": [
       "buffon (generic function with 1 method)"
      ]
     },
     "execution_count": 1,
     "metadata": {},
     "output_type": "execute_result"
    }
   ],
   "source": [
    "function buffon(n::Int)\n",
    "    pi_estimate=0.0\n",
    "    ##################################### \n",
    "    # Run this trial n times and calculate the mean\n",
    "    # Adjust the mean by the 2/pi factor to get your estimate of pi\n",
    "    (x,y,θ) = throw_needle()\n",
    "    overlaps = needle_overlaps(x,y,θ)\n",
    "    \n",
    "    if overlaps\n",
    "        # account for overlap \n",
    "    end\n",
    "    #\n",
    "    #####################################\n",
    "       \n",
    "    pi_estimate # returns your calculated estimate for pi\n",
    "end"
   ]
  },
  {
   "cell_type": "markdown",
   "metadata": {},
   "source": [
    "### Things to think about/remember:"
   ]
  },
  {
   "cell_type": "markdown",
   "metadata": {},
   "source": [
    "- How can you define a floor marked with equally spaced lines?\n",
    "- Which coordinate ultimately decides if the needle overlaps?\n",
    "- How will you check if a needle overlaps or not?\n",
    "- The width of each panel is the same as the length of each needle\n"
   ]
  },
  {
   "cell_type": "markdown",
   "metadata": {},
   "source": [
    "## Milestone Two: Create a convergence plot"
   ]
  },
  {
   "cell_type": "markdown",
   "metadata": {},
   "source": [
    "Now that you have the algorithm for estimating pi with the help of Buffon’s Needles Problem, we will use it to create a convergence plot for our data. The x-axis of the plot will be the number of samples and we will generate 15 different sample sizes using log space from 1 to 10000 samples, which is given by: \n",
    "\n",
    "                    nsamples = round(Int, collect(logspace(1,5,15)))\n",
    "                    \n",
    "The y-axis will be the estimated value of pi we get from various sample sizes. \n",
    " \n",
    "We will then plot the mean estimate for pi for each of 100 trials of the 15 different sample sizes. Also be sure to include error bars with 1-standard deviation. "
   ]
  },
  {
   "cell_type": "markdown",
   "metadata": {},
   "source": [
    "### Part 1: Run Trials"
   ]
  },
  {
   "cell_type": "markdown",
   "metadata": {},
   "source": [
    "First, we need to run the 100 trials for each of the 15 sample sizes. We want to store the results in some data structure -- a useful data structure might be an array. This all depends on how you would want to calculate the mean estimate for ${\\pi}$ for each of the 15 sample sizes. "
   ]
  },
  {
   "cell_type": "code",
   "execution_count": 2,
   "metadata": {},
   "outputs": [
    {
     "data": {
      "text/plain": [
       "run_trials (generic function with 1 method)"
      ]
     },
     "execution_count": 2,
     "metadata": {},
     "output_type": "execute_result"
    }
   ],
   "source": [
    "function run_trials()\n",
    "    trials=[]\n",
    "    # change so that you run 100 trials for each of the 15 sample sizes\n",
    "    buffon(15)\n",
    "    \n",
    "    trials # return the trials for each of the 15 sample sizes \n",
    "end"
   ]
  },
  {
   "cell_type": "markdown",
   "metadata": {},
   "source": [
    "### Part 2: Calulating the mean"
   ]
  },
  {
   "cell_type": "markdown",
   "metadata": {},
   "source": [
    "Now that you have your data stored in some structure, you will need to calculate the mean estimate for the mean estimate for ${\\pi}$ for each of the 15 sample sizes. There are many ways to do this depending on how you initialized your structure. \n",
    "\n",
    "**Useful functions:**\n",
    "mean (pass in an array of values)"
   ]
  },
  {
   "cell_type": "code",
   "execution_count": null,
   "metadata": {
    "collapsed": true
   },
   "outputs": [],
   "source": [
    "function calc_mean(trials::Float64[])\n",
    "    mean=[]\n",
    "    # given an array of all the values of your trials, calculate the mean below:\n",
    "    \n",
    "    mean # return the value of the mean for each trial\n",
    "end"
   ]
  },
  {
   "cell_type": "markdown",
   "metadata": {},
   "source": [
    "### Part 3: Finding the error"
   ]
  },
  {
   "cell_type": "markdown",
   "metadata": {},
   "source": [
    "Finally, we want to calculate the error for our data. To calculate error, there are two options that you could use. The first is more simple but if you want a challenge the second option is very interesting."
   ]
  },
  {
   "cell_type": "markdown",
   "metadata": {},
   "source": [
    "#### Option A: Using Standard Devation "
   ]
  },
  {
   "cell_type": "markdown",
   "metadata": {},
   "source": [
    "Similar to how you found the mean for each sample size, you could use the std function in Julia to find the standard deviation, ${\\sigma}$ for each of the 15 sample sizes. You would then need to divide by the square root of the sample size to calculate error. So for each sample size you would need to calculate $\\frac{\\sigma}{n}$, where ${\\sigma}$ is the standard devation for that sample and n is the size of that sample.\n",
    "\n",
    "**Useful functions:**\n",
    "std (pass in an array of values)"
   ]
  },
  {
   "cell_type": "markdown",
   "metadata": {},
   "source": [
    "#### Option B: Using Jackknife"
   ]
  },
  {
   "cell_type": "markdown",
   "metadata": {},
   "source": [
    "While calculating error by using the above method may be simpler, a more interesting and rigorous method is the [jackknife](https://en.wikipedia.org/wiki/Jackknife_resampling).\n",
    "\n",
    "To calculate the standard deviation, you can use the std function given by Julia for each set of estimates from the 15 different sample sizes. Another method would be to use jackknife. To implement the jackknife, say we have a sample of X1 . . . Xn. We generate n samples of size \n",
    "n - 1 by leaving out one observation at a time. For example we would have the sample X2…Xn, leaving out X1 and then the sample X1, X3…Xn, leaving out X2 and continue to remove one element at a time. \n",
    " \n",
    "We can then use the variance estimation: ${Var}_{jackknife}=\\frac{n-1}{n}\\sum_{i=1}^{n}\\left( \\bar{x_{i}}-\\bar{x_{.}}\\right )$ where $\\bar{x_{.}}=\\frac{1}{n}\\sum_{i=1}^{n}\\bar{x_{i}}$ is the estimator based on all of the subsamples.\n",
    "\n",
    "You would then square root the variance calculated and get the estimate for the standard deviation"
   ]
  },
  {
   "cell_type": "markdown",
   "metadata": {},
   "source": [
    "### Starter Code:"
   ]
  },
  {
   "cell_type": "code",
   "execution_count": 34,
   "metadata": {
    "scrolled": true
   },
   "outputs": [
    {
     "data": {
      "text/html": [
       "<div id=\"529f9404-715a-4d87-a883-627c3e50509d\" class=\"plotly-graph-div\"></div>\n",
       "\n",
       "<script>\n",
       "    window.PLOTLYENV=window.PLOTLYENV || {};\n",
       "    window.PLOTLYENV.BASE_URL=\"https://plot.ly\";\n",
       "    require(['plotly'], function(Plotly) {\n",
       "        Plotly.newPlot('529f9404-715a-4d87-a883-627c3e50509d', [{\"yaxis\":\"y\",\"y\":[3.241592653589793,3.1942242325371617,3.1686196806168203,3.155481542478682,3.1487868981941096,3.1453239968733753,3.143523155520295,3.142592653589793,3.1421105199802644,3.1418608939331407,3.1417316003731752,3.1416646219237263,3.141629929468572,3.141611960472697,3.141602653589793],\"showlegend\":true,\"name\":\"y1\",\"type\":\"scatter\",\"xaxis\":\"x\",\"line\":{\"width\":1,\"dash\":\"solid\",\"color\":\"rgba(0, 154, 250, 1.000)\",\"shape\":\"linear\"},\"x\":[10,19,37,72,139,268,518,1000,1931,3728,7197,13895,26827,51795,100000],\"mode\":\"lines\"},{\"yaxis\":\"y\",\"y\":[null,3.198163205399468,3.285022101780118,null,3.160261905347651,3.2281865597266726,null,3.1409258912759346,3.196313469957706,null,3.1320988426800342,3.1788642422773297,null,3.1285213133809875,3.1690524830072317,null,3.1274380671889417,3.163209926557809,null,3.127523092140228,3.159523218900362,null,3.1281161708596845,3.1570691363199015,null,3.128893135329768,3.1553279046307607,null,3.1297008095978236,3.154020978268458,null,3.130472139042692,3.1529910617036583,null,3.1311816552343004,3.1521475886131523,null,3.131823281384532,3.151436577552612,null,3.13239965742965,3.150824263515744,null,3.1329167639517284,3.150288543227858],\"showlegend\":false,\"name\":\"\",\"type\":\"scatter\",\"xaxis\":\"x\",\"line\":{\"width\":1,\"dash\":\"solid\",\"color\":\"rgba(0, 0, 0, 1.000)\",\"shape\":\"linear\"},\"x\":[null,10.0,10.0,null,19.0,19.0,null,37.0,37.0,null,72.0,72.0,null,139.0,139.0,null,268.0,268.0,null,518.0,518.0,null,1000.0,1000.0,null,1931.0,1931.0,null,3728.0,3728.0,null,7197.0,7197.0,null,13895.0,13895.0,null,26827.0,26827.0,null,51795.0,51795.0,null,100000.0,100000.0],\"mode\":\"lines+markers\",\"marker\":{\"symbol\":\"line-ew\",\"line\":{\"width\":1,\"color\":\"rgba(0, 0, 0, 1.000)\"},\"size\":8,\"color\":\"rgba(0, 154, 250, 1.000)\"}}],\n",
       "               {\"yaxis\":{\"type\":\"-\",\"titlefont\":{\"size\":15,\"color\":\"rgba(0, 0, 0, 1.000)\",\"family\":\"sans-serif\"},\"title\":\"estimate of pi\",\"tickfont\":{\"size\":11,\"color\":\"rgba(0, 0, 0, 1.000)\",\"family\":\"sans-serif\"},\"ticks\":\"inside\",\"tickmode\":\"array\",\"showgrid\":true,\"tickvals\":[3.1500000000000004,3.2,3.25],\"domain\":[0.07581474190726165,0.9901574803149606],\"ticktext\":[\"3.15\",\"3.20\",\"3.25\"],\"tickangle\":0,\"zeroline\":false,\"linecolor\":\"rgba(0, 0, 0, 1.000)\",\"tickcolor\":\"rgba(0, 0, 0, 1.000)\",\"anchor\":\"x\"},\"annotations\":[],\"width\":600,\"plot_bgcolor\":\"rgba(255, 255, 255, 1.000)\",\"showlegend\":true,\"legend\":{\"bgcolor\":\"rgba(255, 255, 255, 1.000)\",\"y\":1.0,\"font\":{\"size\":11,\"color\":\"rgba(0, 0, 0, 1.000)\",\"family\":\"sans-serif\"},\"bordercolor\":\"rgba(0, 0, 0, 1.000)\",\"x\":1.0},\"xaxis\":{\"type\":\"log\",\"titlefont\":{\"size\":15,\"color\":\"rgba(0, 0, 0, 1.000)\",\"family\":\"sans-serif\"},\"title\":\"number of samples\",\"tickfont\":{\"size\":11,\"color\":\"rgba(0, 0, 0, 1.000)\",\"family\":\"sans-serif\"},\"ticks\":\"inside\",\"tickmode\":\"array\",\"showgrid\":true,\"tickvals\":[10.0,100.0,1000.0,10000.0,100000.0],\"domain\":[0.09128390201224845,0.9934383202099738],\"ticktext\":[\"10^1\",\"10^2\",\"10^3\",\"10^4\",\"10^5\"],\"tickangle\":0,\"zeroline\":false,\"linecolor\":\"rgba(0, 0, 0, 1.000)\",\"tickcolor\":\"rgba(0, 0, 0, 1.000)\",\"anchor\":\"y\"},\"paper_bgcolor\":\"rgba(255, 255, 255, 1.000)\",\"margin\":{\"r\":0,\"l\":0,\"b\":0,\"t\":20},\"height\":400}, {showLink: false});\n",
       "\n",
       "    });\n",
       " </script>\n"
      ]
     },
     "execution_count": 34,
     "metadata": {},
     "output_type": "execute_result"
    }
   ],
   "source": [
    "using Plots\n",
    "plotlyjs()\n",
    "\n",
    "nsamples = round(Int, collect(logspace(1,5,15)))\n",
    "trials = run_trials()\n",
    "mean = calc_mean(trials)\n",
    "# replace this with your own code\n",
    "fake_mean_y = map(x->pi + 1/x, nsamples)\n",
    "fake_stdev_y = map(x->0.1/log(x), nsamples)\n",
    "\n",
    "plot(nsamples, fake_mean_y, yerror=fake_stdev_y, xaxis=(\"number of samples\", :log), ylabel=\"estimate of pi\")"
   ]
  },
  {
   "cell_type": "markdown",
   "metadata": {},
   "source": [
    "### Things to think about/remember:"
   ]
  },
  {
   "cell_type": "markdown",
   "metadata": {
    "collapsed": true
   },
   "source": [
    "- How will you keep track of all the trials?  \n",
    "- How can you use the map function to help you with the mean and standard deviation?\n",
    "- Make sure you are comfortable with Arrays/Vectors/Matrices  \n"
   ]
  }
 ],
 "metadata": {
  "kernelspec": {
   "display_name": "Julia 0.6.0",
   "language": "julia",
   "name": "julia-0.6"
  },
  "language_info": {
   "file_extension": ".jl",
   "mimetype": "application/julia",
   "name": "julia",
   "version": "0.6.0"
  },
  "widgets": {
   "state": {
    "2e5908f3-2189-4a26-b0d5-628b7720cfa0": {
     "views": [
      {
       "cell_index": 48
      }
     ]
    },
    "3edb2a62-a12b-4872-99b1-0cb56c47d62c": {
     "views": [
      {
       "cell_index": 48
      }
     ]
    },
    "4417267d-7396-41af-9e40-a8b8904d5df5": {
     "views": [
      {
       "cell_index": 49
      }
     ]
    },
    "782ef6eb-5c5f-4bcc-8e51-cc315a09f1cc": {
     "views": [
      {
       "cell_index": 49
      }
     ]
    },
    "ba913003-e422-4af0-8b56-8118bdd4c7b4": {
     "views": [
      {
       "cell_index": 48
      }
     ]
    },
    "e9a2a51a-ce4e-4316-b643-1e830567630e": {
     "views": [
      {
       "cell_index": 49
      }
     ]
    }
   },
   "version": "1.2.0"
  }
 },
 "nbformat": 4,
 "nbformat_minor": 1
}
