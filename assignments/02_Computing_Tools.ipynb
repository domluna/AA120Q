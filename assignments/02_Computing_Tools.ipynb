{
 "cells": [
  {
   "cell_type": "markdown",
   "metadata": {},
   "source": [
    "# Assignment 1"
   ]
  },
  {
   "cell_type": "markdown",
   "metadata": {},
   "source": [
    "<img src=\"figures/buffon.png\" alt=\"Tossing Needles\" width=\"600\" align=\"middle\">\n",
    "\n",
    "Buffon's Needle Problem was first proposed by Georges Buffon in 1737. By randomly throwing needles onto a hard floor marked with equally spaced lines, Buffon was able to derive a mathematial expression which could be used to calculate the value of pi. Specifically, the probability that a needle of length equal to the width of parallel boards overlaps with a board edge is $\\frac{2}{\\pi}$. \n",
    "\n",
    "One can estimate pi by dropping a large number of pins and using the ratio of overlaps to non-overlaps to estimate pi.\n",
    "The accuracy of this experimental value of pi increases with an increasing number of random throws. \n",
    "See [Wikipedia](https://en.wikipedia.org/wiki/Buffon%27s_needle) for a detailed problem description and background."
   ]
  },
  {
   "cell_type": "markdown",
   "metadata": {},
   "source": [
    "# Buffon's Needles Problem"
   ]
  },
  {
   "cell_type": "markdown",
   "metadata": {},
   "source": [
    "Your task is to develop an algorithm that estimates pi based on the above description, and write a program to implement this  algorithm.\n",
    "\n",
    "1.\tYour algorithm must be implemented from scratch in Julia.\n",
    "2.\tYour function should have the following signature: `buffon(n::Int)`.\n",
    "3.  Your function should return $\\hat{\\pi}$, your estimate for pi.\n",
    "4.  Plot how your algorithm converges as the sample count is increased using [Plots.jl](https://github.com/tbreloff/Plots.jl)\n",
    "5.\tAlthough you may discuss your algorithm with others, you must not share code."
   ]
  },
  {
   "cell_type": "code",
   "execution_count": 33,
   "metadata": {
    "collapsed": false
   },
   "outputs": [
    {
     "data": {
      "text/plain": [
       "buffon (generic function with 1 method)"
      ]
     },
     "execution_count": 33,
     "metadata": {},
     "output_type": "execute_result"
    }
   ],
   "source": [
    "function buffon(n::Int)\n",
    "\n",
    "    #####################################\n",
    "    # replace with your algorithm here\n",
    "    \n",
    "    # 1 - throw a needle by picking a random (x,y, and theta)\n",
    "    # 2 - check whether the needle overlaps with a floorboard line\n",
    "    # 3 - use the above n times and adjust by the 2/pi factor to get your estimate of pi\n",
    "    \n",
    "    pi + randn()/n # delete this\n",
    "    \n",
    "    #####################################\n",
    "end"
   ]
  },
  {
   "cell_type": "markdown",
   "metadata": {},
   "source": [
    "Create a convergence plot.\n",
    "* the x-axis should be the number of samples, log space, from 1 to 10000 samples\n",
    "* the y-axis should be the estimate of pi\n",
    "* plot the mean estimate for pi out of 100 trials\n",
    "* include error bars with 1-standard deviation."
   ]
  },
  {
   "cell_type": "code",
   "execution_count": 34,
   "metadata": {
    "collapsed": false
   },
   "outputs": [
    {
     "data": {
      "text/html": [
       "<div id=\"529f9404-715a-4d87-a883-627c3e50509d\" class=\"plotly-graph-div\"></div>\n",
       "\n",
       "<script>\n",
       "    window.PLOTLYENV=window.PLOTLYENV || {};\n",
       "    window.PLOTLYENV.BASE_URL=\"https://plot.ly\";\n",
       "    require(['plotly'], function(Plotly) {\n",
       "        Plotly.newPlot('529f9404-715a-4d87-a883-627c3e50509d', [{\"yaxis\":\"y\",\"y\":[3.241592653589793,3.1942242325371617,3.1686196806168203,3.155481542478682,3.1487868981941096,3.1453239968733753,3.143523155520295,3.142592653589793,3.1421105199802644,3.1418608939331407,3.1417316003731752,3.1416646219237263,3.141629929468572,3.141611960472697,3.141602653589793],\"showlegend\":true,\"name\":\"y1\",\"type\":\"scatter\",\"xaxis\":\"x\",\"line\":{\"width\":1,\"dash\":\"solid\",\"color\":\"rgba(0, 154, 250, 1.000)\",\"shape\":\"linear\"},\"x\":[10,19,37,72,139,268,518,1000,1931,3728,7197,13895,26827,51795,100000],\"mode\":\"lines\"},{\"yaxis\":\"y\",\"y\":[null,3.198163205399468,3.285022101780118,null,3.160261905347651,3.2281865597266726,null,3.1409258912759346,3.196313469957706,null,3.1320988426800342,3.1788642422773297,null,3.1285213133809875,3.1690524830072317,null,3.1274380671889417,3.163209926557809,null,3.127523092140228,3.159523218900362,null,3.1281161708596845,3.1570691363199015,null,3.128893135329768,3.1553279046307607,null,3.1297008095978236,3.154020978268458,null,3.130472139042692,3.1529910617036583,null,3.1311816552343004,3.1521475886131523,null,3.131823281384532,3.151436577552612,null,3.13239965742965,3.150824263515744,null,3.1329167639517284,3.150288543227858],\"showlegend\":false,\"name\":\"\",\"type\":\"scatter\",\"xaxis\":\"x\",\"line\":{\"width\":1,\"dash\":\"solid\",\"color\":\"rgba(0, 0, 0, 1.000)\",\"shape\":\"linear\"},\"x\":[null,10.0,10.0,null,19.0,19.0,null,37.0,37.0,null,72.0,72.0,null,139.0,139.0,null,268.0,268.0,null,518.0,518.0,null,1000.0,1000.0,null,1931.0,1931.0,null,3728.0,3728.0,null,7197.0,7197.0,null,13895.0,13895.0,null,26827.0,26827.0,null,51795.0,51795.0,null,100000.0,100000.0],\"mode\":\"lines+markers\",\"marker\":{\"symbol\":\"line-ew\",\"line\":{\"width\":1,\"color\":\"rgba(0, 0, 0, 1.000)\"},\"size\":8,\"color\":\"rgba(0, 154, 250, 1.000)\"}}],\n",
       "               {\"yaxis\":{\"type\":\"-\",\"titlefont\":{\"size\":15,\"color\":\"rgba(0, 0, 0, 1.000)\",\"family\":\"sans-serif\"},\"title\":\"estimate of pi\",\"tickfont\":{\"size\":11,\"color\":\"rgba(0, 0, 0, 1.000)\",\"family\":\"sans-serif\"},\"ticks\":\"inside\",\"tickmode\":\"array\",\"showgrid\":true,\"tickvals\":[3.1500000000000004,3.2,3.25],\"domain\":[0.07581474190726165,0.9901574803149606],\"ticktext\":[\"3.15\",\"3.20\",\"3.25\"],\"tickangle\":0,\"zeroline\":false,\"linecolor\":\"rgba(0, 0, 0, 1.000)\",\"tickcolor\":\"rgba(0, 0, 0, 1.000)\",\"anchor\":\"x\"},\"annotations\":[],\"width\":600,\"plot_bgcolor\":\"rgba(255, 255, 255, 1.000)\",\"showlegend\":true,\"legend\":{\"bgcolor\":\"rgba(255, 255, 255, 1.000)\",\"y\":1.0,\"font\":{\"size\":11,\"color\":\"rgba(0, 0, 0, 1.000)\",\"family\":\"sans-serif\"},\"bordercolor\":\"rgba(0, 0, 0, 1.000)\",\"x\":1.0},\"xaxis\":{\"type\":\"log\",\"titlefont\":{\"size\":15,\"color\":\"rgba(0, 0, 0, 1.000)\",\"family\":\"sans-serif\"},\"title\":\"number of samples\",\"tickfont\":{\"size\":11,\"color\":\"rgba(0, 0, 0, 1.000)\",\"family\":\"sans-serif\"},\"ticks\":\"inside\",\"tickmode\":\"array\",\"showgrid\":true,\"tickvals\":[10.0,100.0,1000.0,10000.0,100000.0],\"domain\":[0.09128390201224845,0.9934383202099738],\"ticktext\":[\"10^1\",\"10^2\",\"10^3\",\"10^4\",\"10^5\"],\"tickangle\":0,\"zeroline\":false,\"linecolor\":\"rgba(0, 0, 0, 1.000)\",\"tickcolor\":\"rgba(0, 0, 0, 1.000)\",\"anchor\":\"y\"},\"paper_bgcolor\":\"rgba(255, 255, 255, 1.000)\",\"margin\":{\"r\":0,\"l\":0,\"b\":0,\"t\":20},\"height\":400}, {showLink: false});\n",
       "\n",
       "    });\n",
       " </script>\n"
      ]
     },
     "execution_count": 34,
     "metadata": {},
     "output_type": "execute_result"
    }
   ],
   "source": [
    "using Plots\n",
    "plotlyjs()\n",
    "\n",
    "nsamples = round(Int, collect(logspace(1,5,15)))\n",
    "\n",
    "# replace this with your own code\n",
    "fake_mean_y = map(x->pi + 1/x, nsamples)\n",
    "fake_stdev_y = map(x->0.1/log(x), nsamples)\n",
    "\n",
    "plot(nsamples, fake_mean_y, yerror=fake_stdev_y, xaxis=(\"number of samples\", :log), ylabel=\"estimate of pi\")"
   ]
  },
  {
   "cell_type": "code",
   "execution_count": null,
   "metadata": {
    "collapsed": true
   },
   "outputs": [],
   "source": []
  }
 ],
 "metadata": {
  "kernelspec": {
   "display_name": "Julia 0.5.0",
   "language": "julia",
   "name": "julia-0.5"
  },
  "language_info": {
   "file_extension": ".jl",
   "mimetype": "application/julia",
   "name": "julia",
   "version": "0.5.0"
  },
  "widgets": {
   "state": {
    "2e5908f3-2189-4a26-b0d5-628b7720cfa0": {
     "views": [
      {
       "cell_index": 48
      }
     ]
    },
    "3edb2a62-a12b-4872-99b1-0cb56c47d62c": {
     "views": [
      {
       "cell_index": 48
      }
     ]
    },
    "4417267d-7396-41af-9e40-a8b8904d5df5": {
     "views": [
      {
       "cell_index": 49
      }
     ]
    },
    "782ef6eb-5c5f-4bcc-8e51-cc315a09f1cc": {
     "views": [
      {
       "cell_index": 49
      }
     ]
    },
    "ba913003-e422-4af0-8b56-8118bdd4c7b4": {
     "views": [
      {
       "cell_index": 48
      }
     ]
    },
    "e9a2a51a-ce4e-4316-b643-1e830567630e": {
     "views": [
      {
       "cell_index": 49
      }
     ]
    }
   },
   "version": "1.2.0"
  }
 },
 "nbformat": 4,
 "nbformat_minor": 0
}
