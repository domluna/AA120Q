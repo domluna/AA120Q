{
 "cells": [
  {
   "cell_type": "markdown",
   "metadata": {},
   "source": [
    "# Assignment 7"
   ]
  },
  {
   "cell_type": "markdown",
   "metadata": {},
   "source": [
    "In this assignment, you are expected to write your own collision avoidance system that works in the presence of uncertainty. These will be evaluated identically to the previous collision avoidance systems.\n",
    "\n",
    "Your collision avoidance system will now the `update!` method receives a `SensorReading` instead of the true aircraft states."
   ]
  },
  {
   "cell_type": "markdown",
   "metadata": {},
   "source": [
    "![Encounter Definition](../04_Learning/figures/encounter_def.png)"
   ]
  },
  {
   "cell_type": "markdown",
   "metadata": {},
   "source": [
    "A `SensorReading` contains:\n",
    "- $r$ - the horizontal distance between the aircraft, in feet\n",
    "- $\\alpha$ - the bearing, in degrees, from aircraft 1 towards aircraft 2. A bearing of zero point down aircraft 1's nose and positive bearing values increase towards aircraft one's left wing.\n",
    "- $d$ - the discretized relative altitude of aircraft 2 with respect to aircraft 1."
   ]
  },
  {
   "cell_type": "markdown",
   "metadata": {},
   "source": [
    "You thus have access to three pieces of information - the range, the bearing, and the altitude. \n",
    "\n",
    "The range is computed using the true range plus zero-mean Gaussian noise with a $50 \\text{ft}$ standard deviation. The bearing is computed using the true bearing plus zero-mean Gaussian noise with a $5$ degree standard deviation"
   ]
  },
  {
   "cell_type": "markdown",
   "metadata": {},
   "source": [
    "The altitude is discretized into the following bins but includes no noise:\n",
    "\n",
    "$$\n",
    "\\begin{cases}\n",
    "    \\text{relative altitude} \\in (-\\inf, -1000] \\> \\text{ft} & \\rightarrow \\> d = 1 \\\\\n",
    "    \\text{relative altitude} \\in (-1000, -500] \\> \\text{ft} & \\rightarrow \\> d = 2 \\\\\n",
    "    \\text{relative altitude} \\in (-500, -250] \\> \\text{ft} & \\rightarrow \\> d = 3 \\\\\n",
    "    \\text{relative altitude} \\in (-250, -100] \\> \\text{ft} & \\rightarrow \\> d = 4 \\\\\n",
    "    \\text{relative altitude} \\in (-100,  0] \\> \\text{ft} & \\rightarrow \\> d = 5 \\\\\n",
    "    \\text{relative altitude} \\in (0, 100] \\> \\text{ft} & \\rightarrow \\> d = 6 \\\\\n",
    "    \\text{relative altitude} \\in (100, 250] \\> \\text{ft} & \\rightarrow \\> d = 7 \\\\\n",
    "    \\text{relative altitude} \\in (250, 500] \\> \\text{ft} & \\rightarrow \\> d = 8 \\\\\n",
    "    \\text{relative altitude} \\in (500, \\inf] \\> \\text{ft} & \\rightarrow \\> d = 9\n",
    "\\end{cases}\n",
    "$$"
   ]
  },
  {
   "cell_type": "markdown",
   "metadata": {},
   "source": [
    "### What is Turned In\n",
    "\n",
    "Write all of your code in a file structured identically to \"my_cas.jl\" and turn it in to Coursework."
   ]
  },
  {
   "cell_type": "code",
   "execution_count": 1,
   "metadata": {},
   "outputs": [
    {
     "name": "stderr",
     "output_type": "stream",
     "text": [
      "INFO: Recompiling stale cache file /home/tim/.julia/lib/v0.4/AA120Q.ji for module AA120Q.\n"
     ]
    }
   ],
   "source": [
    "using AA120Q\n",
    "plotlyjs()"
   ]
  },
  {
   "cell_type": "markdown",
   "metadata": {},
   "source": [
    "Here is a dataset of fully-human encounters, which you can then use to collect your own set of encounters to evaluate your Collision Avoidance System (CAS)."
   ]
  },
  {
   "cell_type": "code",
   "execution_count": 2,
   "metadata": {},
   "outputs": [],
   "source": [
    "initial, traces = get_dataset(\"small\")\n",
    "encounters = pull_encounters(initial, traces, 500);"
   ]
  },
  {
   "cell_type": "markdown",
   "metadata": {},
   "source": [
    "## Demonstrative Partially Observable Collision Avoidance System - (DCAS)\n",
    "\n",
    "Here is a demonstrative collision avoidance system, which is a fully-functional out-of-the-box CAS. It will leverage the model and the AA120Q API. The two functions reset() and update() are implemented here. Use it as a starting point to design your own CAS.\n",
    "\n",
    "The model will issue an Advisory (or none) at each timestep. Issuing ADVISORY_NONE or your previous advisory is equivalent to issuing no advisory."
   ]
  },
  {
   "cell_type": "code",
   "execution_count": 3,
   "metadata": {},
   "outputs": [],
   "source": [
    "type DemoCAS2 <: PartiallyObservableCollisionAvoidanceSystem\n",
    "    range_threshold::Float64\n",
    "    last_advisory::Advisory\n",
    "    DemoCAS2(range_threshold::Float64, last_advisory::Advisory=ADVISORY_NONE) = new(range_threshold, last_advisory)\n",
    "end"
   ]
  },
  {
   "cell_type": "markdown",
   "metadata": {},
   "source": [
    "A reset function to start it anew"
   ]
  },
  {
   "cell_type": "code",
   "execution_count": 4,
   "metadata": {},
   "outputs": [
    {
     "data": {
      "text/plain": [
       "reset! (generic function with 3 methods)"
      ]
     },
     "execution_count": 4,
     "metadata": {},
     "output_type": "execute_result"
    }
   ],
   "source": [
    "function AA120Q.reset!(dcas::DemoCAS2)\n",
    "    dcas.last_advisory = ADVISORY_NONE\n",
    "    dcas\n",
    "end"
   ]
  },
  {
   "cell_type": "markdown",
   "metadata": {},
   "source": [
    "The update function issues an advisory. Note that we now get a `SensorReading`."
   ]
  },
  {
   "cell_type": "code",
   "execution_count": 5,
   "metadata": {},
   "outputs": [
    {
     "data": {
      "text/plain": [
       "update! (generic function with 5 methods)"
      ]
     },
     "execution_count": 5,
     "metadata": {},
     "output_type": "execute_result"
    }
   ],
   "source": [
    "function AA120Q.update!(dcas::DemoCAS2, reading::SensorReading, params::EncounterSimParams)\n",
    "    \n",
    "    range = reading.r # range [ft]\n",
    "\n",
    "    # test for activation\n",
    "    if is_no_advisory(dcas.last_advisory) && range < dcas.range_threshold\n",
    "        dcas.last_advisory = Advisory(CLIMB_RATE_MAX) # climb!\n",
    "    end\n",
    "        \n",
    "    dcas.last_advisory\n",
    "end"
   ]
  },
  {
   "cell_type": "markdown",
   "metadata": {},
   "source": [
    "You can now simulate trajectories with your custom CAS..."
   ]
  },
  {
   "cell_type": "code",
   "execution_count": 6,
   "metadata": {},
   "outputs": [
    {
     "name": "stdout",
     "output_type": "stream",
     "text": [
      "[Plots.jl] Initializing backend: pyplot\n"
     ]
    },
    {
     "name": "stderr",
     "output_type": "stream",
     "text": [
      "Gtk-Message: Failed to load module \"overlay-scrollbar\"\n"
     ]
    },
    {
     "data": {
      "text/html": [
       "<img src=\"data:image/png;base64,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\" />"
      ]
     },
     "execution_count": 6,
     "metadata": {},
     "output_type": "execute_result"
    },
    {
     "name": "stderr",
     "output_type": "stream",
     "text": [
      "/home/tim/anaconda/lib/python2.7/site-packages/matplotlib/collections.py:590: FutureWarning: elementwise comparison failed; returning scalar instead, but in the future will perform elementwise comparison\n",
      "  if self._edgecolors == str('face'):\n",
      "/home/tim/anaconda/lib/python2.7/site-packages/matplotlib/font_manager.py:1282: UserWarning: findfont: Font family [u'Helvetica'] not found. Falling back to Bitstream Vera Sans\n",
      "  (prop.get_family(), self.defaultFamily[fontext]))\n",
      "/home/tim/anaconda/lib/python2.7/site-packages/matplotlib/font_manager.py:1292: UserWarning: findfont: Could not match :family=Bitstream Vera Sans:style=normal:variant=normal:weight=normal:stretch=normal:size=14.0. Returning /usr/share/matplotlib/mpl-data/fonts/ttf/cmb10.ttf\n",
      "  UserWarning)\n"
     ]
    }
   ],
   "source": [
    "srand(0)\n",
    "enc = rand(encounters[1], DemoCAS2(1000.0))\n",
    "plot_encounter(enc)"
   ]
  },
  {
   "cell_type": "markdown",
   "metadata": {
    "collapsed": true
   },
   "source": [
    "# Pull Evaluation Metrics"
   ]
  },
  {
   "cell_type": "markdown",
   "metadata": {},
   "source": [
    "Use `evaluate` to report the number of advisories and near midair collisions (NMACs). Remember that a good safety system will minimize both the number of collisions and the number of alerts. We will measure performance based on the average cost per trajectory, `CASEval.normalized`. Try to minimize it!"
   ]
  },
  {
   "cell_type": "code",
   "execution_count": 22,
   "metadata": {},
   "outputs": [
    {
     "data": {
      "text/plain": [
       "CASEval(n_encounters: 3, n_advisories: 3, n_NMACs: 0, penalty: 400.00, normalized: 133.33)"
      ]
     },
     "execution_count": 22,
     "metadata": {},
     "output_type": "execute_result"
    }
   ],
   "source": [
    "# run every encounter once\n",
    "evaluate(DemoCAS2(1000.0), encounters)"
   ]
  },
  {
   "cell_type": "code",
   "execution_count": 23,
   "metadata": {},
   "outputs": [
    {
     "data": {
      "text/plain": [
       "CASEval(n_encounters: 50, n_advisories: 50, n_NMACs: 0, penalty: 6666.67, normalized: 133.33)"
      ]
     },
     "execution_count": 23,
     "metadata": {},
     "output_type": "execute_result"
    }
   ],
   "source": [
    "# randomly sample 50 encounters from `encounters`\n",
    "evaluate(DemoCAS2(1000.0), encounters, 50)"
   ]
  }
 ],
 "metadata": {
  "anaconda-cloud": {},
  "kernelspec": {
   "display_name": "Julia 0.5.2",
   "language": "julia",
   "name": "julia-0.5"
  },
  "language_info": {
   "file_extension": ".jl",
   "mimetype": "application/julia",
   "name": "julia",
   "version": "0.5.2"
  }
 },
 "nbformat": 4,
 "nbformat_minor": 1
}
