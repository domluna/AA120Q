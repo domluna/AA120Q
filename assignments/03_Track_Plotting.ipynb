{
 "cells": [
  {
   "cell_type": "markdown",
   "metadata": {},
   "source": [
    "# Week 3 Assignment - Encounter Plotting"
   ]
  },
  {
   "cell_type": "markdown",
   "metadata": {},
   "source": [
    "Your task is to:\n",
    "\n",
    "1.  Load example aircraft tracks from a file and plot them.\n",
    "2.  Propose a statistical model for capturing features from the data.\n",
    "\n",
    "Turn in your final Julia notebook file (.ipynb) on Coursework for part (1) and a document describing your proposed statistical model for part (2) to coursework."
   ]
  },
  {
   "cell_type": "markdown",
   "metadata": {},
   "source": [
    "### Aircraft Tracks\n",
    "\n",
    "![Encounter](figures/encounter_plot.png)\n",
    "\n",
    "An airspace encounter consists of two components - the initial conditions and the transitions over time.\n",
    "One file is provided for each.\n",
    "\n",
    "The initial conditions file, [`initial.txt`](http://web.stanford.edu/class/aa120q/data/initial_small.txt), contains a table with the following columns:\n",
    "\n",
    "| Variable | Type | Description |\n",
    "| -------- |:----:| ----------- |\n",
    "| **id**       | Int  | trace id    |\n",
    "| **A**      | Int  | index corresponding to the airspace class (i.e., B, C, D, or other) |\n",
    "| **C1**    | Int   | category of aircraft 1 |\n",
    "| **C2**    | Int   | category of aircraft 2 |\n",
    "\n",
    "The transitions file, [`transition.txt`](http://web.stanford.edu/class/aa120q/data/transition_small.txt), contains a table with the following columns:\n",
    "\n",
    "| Variable | Type | Description |\n",
    "| -------- |:----:| ----------- |\n",
    "| **id**                  | Int   | trace id, same as in `initial.txt`    |\n",
    "| **t**                   | Int   | time in 1s intervals from 0 to 50    |\n",
    "| **n1**                  | Int   | airplane 1 northing [ft/s] | **n2**                  | Int   | airplane 2 northing [ft/s]   |\n",
    "| **e1**                  | Int   | airplane 1 easting [ft/s]  | **e2**                  | Int   | airplane 2 easting [ft/s]    |\n",
    "| **h1**                  | Int   | airplane 1 altitude [ft]    | **h2**                  | Int   | airplane 2 altitude [ft]    |\n",
    "| **v1**                  | Int   | airplane 1 horizontal speed [ft/s]    | **v1**                  | Int   | airplane 2 horizontal speed [ft/s]    |\n",
    "| **ψ1**                  | Int   | airplane 1 heading [deg]    | **ψ2**                  | Int   | airplane 2 heading [deg]    |"
   ]
  },
  {
   "cell_type": "markdown",
   "metadata": {},
   "source": [
    "Write a program to load these trajectories and plot them.\n",
    "\n",
    "1.  Your algorithm must be implemented from scratch in Julia.\n",
    "2.  Although you may discuss your algorithm with others, you must not share code.\n",
    "\n",
    "Directions\n",
    "\n",
    "* Implement `pull_encounter` to load a specific `Encounter` from initial and transition\n",
    "* Modify `plot_encounter` to indicate the location of minimim separation"
   ]
  },
  {
   "cell_type": "code",
   "execution_count": 1,
   "metadata": {
    "collapsed": false,
    "scrolled": true
   },
   "outputs": [
    {
     "data": {
      "text/html": [
       "<table class=\"data-frame\"><thead><tr><th></th><th>id</th><th>A</th><th>C1</th><th>C2</th></tr></thead><tbody><tr><th>1</th><td>1</td><td>4</td><td>2</td><td>2</td></tr><tr><th>2</th><td>2</td><td>4</td><td>2</td><td>2</td></tr><tr><th>3</th><td>3</td><td>2</td><td>2</td><td>2</td></tr></tbody></table>"
      ],
      "text/plain": [
       "3×4 DataFrames.DataFrame\n",
       "│ Row │ id │ A │ C1 │ C2 │\n",
       "├─────┼────┼───┼────┼────┤\n",
       "│ 1   │ 1  │ 4 │ 2  │ 2  │\n",
       "│ 2   │ 2  │ 4 │ 2  │ 2  │\n",
       "│ 3   │ 3  │ 2 │ 2  │ 2  │"
      ]
     },
     "execution_count": 1,
     "metadata": {},
     "output_type": "execute_result"
    }
   ],
   "source": [
    "# Load initial.txt as a DataFrame\n",
    "using DataFrames\n",
    "initial = readtable(Pkg.dir(\"AA120Q\", \"data\", \"initial_small.txt\"))"
   ]
  },
  {
   "cell_type": "code",
   "execution_count": 2,
   "metadata": {
    "collapsed": false
   },
   "outputs": [
    {
     "data": {
      "text/html": [
       "<table class=\"data-frame\"><thead><tr><th></th><th>id</th><th>t</th><th>n1</th><th>e1</th><th>h1</th><th>v1</th><th>ψ1</th><th>n2</th><th>e2</th><th>h2</th><th>v2</th><th>ψ2</th></tr></thead><tbody><tr><th>1</th><td>1</td><td>0</td><td>-8663.356343901081</td><td>334.6189855606664</td><td>8273.006246536497</td><td>280.548</td><td>-13.715783000000005</td><td>2172.6419947992413</td><td>-4228.932261893066</td><td>1685.3174490867889</td><td>156.281</td><td>200.15960299999992</td></tr><tr><th>2</th><td>1</td><td>1</td><td>-8470.635911654446</td><td>381.65540917758483</td><td>8074.628853288174</td><td>280.548</td><td>-12.986118000000005</td><td>2025.9353555932234</td><td>-4175.072137739151</td><td>1685.3174490867889</td><td>154.82377</td><td>203.0110329999999</td></tr><tr><th>3</th><td>1</td><td>2</td><td>-8277.33211172748</td><td>426.23377933392</td><td>7876.25146003985</td><td>280.548</td><td>-12.256453000000006</td><td>1883.4309754667102</td><td>-4114.550229294595</td><td>1685.3174490867889</td><td>153.36654</td><td>205.8624629999999</td></tr></tbody></table>"
      ],
      "text/plain": [
       "3×12 DataFrames.DataFrame\n",
       "│ Row │ id │ t │ n1       │ e1      │ h1      │ v1      │ ψ1       │ n2      │\n",
       "├─────┼────┼───┼──────────┼─────────┼─────────┼─────────┼──────────┼─────────┤\n",
       "│ 1   │ 1  │ 0 │ -8663.36 │ 334.619 │ 8273.01 │ 280.548 │ -13.7158 │ 2172.64 │\n",
       "│ 2   │ 1  │ 1 │ -8470.64 │ 381.655 │ 8074.63 │ 280.548 │ -12.9861 │ 2025.94 │\n",
       "│ 3   │ 1  │ 2 │ -8277.33 │ 426.234 │ 7876.25 │ 280.548 │ -12.2565 │ 1883.43 │\n",
       "\n",
       "│ Row │ e2       │ h2      │ v2      │ ψ2      │\n",
       "├─────┼──────────┼─────────┼─────────┼─────────┤\n",
       "│ 1   │ -4228.93 │ 1685.32 │ 156.281 │ 200.16  │\n",
       "│ 2   │ -4175.07 │ 1685.32 │ 154.824 │ 203.011 │\n",
       "│ 3   │ -4114.55 │ 1685.32 │ 153.367 │ 205.862 │"
      ]
     },
     "execution_count": 2,
     "metadata": {},
     "output_type": "execute_result"
    }
   ],
   "source": [
    "# Load traces.txt as a DataFrame\n",
    "traces = readtable(Pkg.dir(\"AA120Q\", \"data\", \"traces_small.txt\"))\n",
    "traces[1:3,:]"
   ]
  },
  {
   "cell_type": "markdown",
   "metadata": {},
   "source": [
    "`AircraftState` - a type which describes the aircraft state"
   ]
  },
  {
   "cell_type": "code",
   "execution_count": 3,
   "metadata": {
    "collapsed": true
   },
   "outputs": [],
   "source": [
    "immutable AircraftState\n",
    "    n::Float64  # northing   [ft]\n",
    "    e::Float64  # easting    [ft]\n",
    "    h::Float64  # altitude   [ft]\n",
    "    ψ::Float64  # heading    [deg] (angle CCW from north)\n",
    "    v::Float64  # speed      [ft/s] (total speed in 3D)\n",
    "    hd::Float64 # climb rate [ft/s] (vertical speed component)\n",
    "end"
   ]
  },
  {
   "cell_type": "markdown",
   "metadata": {},
   "source": [
    "`Encounter` - a type which describes an encounter"
   ]
  },
  {
   "cell_type": "code",
   "execution_count": 4,
   "metadata": {
    "collapsed": true
   },
   "outputs": [],
   "source": [
    "type Encounter\n",
    "    A::Int  # airspace class\n",
    "    C1::Int # category of aircraft 1\n",
    "    C2::Int # category of aircraft 2\n",
    "    Δt::Float64 # constant timestep between frames [sec]\n",
    "    trace1::Vector{AircraftState} # aircraft states for AC1, ordered in time\n",
    "    trace2::Vector{AircraftState} # aircraft states for AC1, ordered in time\n",
    "\n",
    "    function Encounter(\n",
    "        A::Int,\n",
    "        C1::Int,\n",
    "        C2::Int,\n",
    "        Δt::Float64,\n",
    "        trace1::Vector{AircraftState},\n",
    "        trace2::Vector{AircraftState},\n",
    "        )\n",
    "\n",
    "        retval = new()\n",
    "        retval.A = A\n",
    "        retval.C1 = C1\n",
    "        retval.C2 = C2\n",
    "        retval.Δt = Δt\n",
    "        retval.trace1 = trace1\n",
    "        retval.trace2 = trace2\n",
    "        retval\n",
    "    end\n",
    "end"
   ]
  },
  {
   "cell_type": "code",
   "execution_count": 22,
   "metadata": {
    "collapsed": false
   },
   "outputs": [
    {
     "data": {
      "text/plain": [
       "pull_encounter (generic function with 1 method)"
      ]
     },
     "execution_count": 22,
     "metadata": {},
     "output_type": "execute_result"
    }
   ],
   "source": [
    "function pull_encounter(initial::DataFrame, traces::DataFrame, id::Int)\n",
    "\n",
    "    # This function will prepare an \"Encounter\" data structure for plotting (see below),\n",
    "    # by initializing the aircraft traces (trace1, trace2) into arrays of 51 elements (use the\n",
    "    # Array() function in Julia to initialize the aircraft traces). \n",
    "    \n",
    "    # Use a for loop to populate the aircraft states of the trace arrays, from the initial and\n",
    "    # transitional data tables provided (initial.txt, traces.txt).\n",
    "    # You must calculate \"Δt\" from the time difference in the trace data.\n",
    "    \n",
    "    ################\n",
    "    # YOUR CODE HERE\n",
    "    ################\n",
    "    \n",
    "    Encounter(initial[id, :A], initial[id, :C1], initial[id, :C2],\n",
    "              Δt, trace1, trace2)\n",
    "    \n",
    "end"
   ]
  },
  {
   "cell_type": "code",
   "execution_count": null,
   "metadata": {
    "collapsed": false
   },
   "outputs": [],
   "source": [
    "using Plots\n",
    "plotlyjs() # use the PlotlyJS backend\n",
    "\n",
    "function plot_encounter(enc::Encounter)\n",
    "\n",
    "    trace1, trace2 = enc.trace1, enc.trace2\n",
    "\n",
    "    palette=[colorant\"0x52E3F6\", colorant\"0x79ABFF\"]\n",
    "    t_arr = (collect(1:length(trace1)).-1) .* enc.Δt\n",
    "\n",
    "    e1_arr = map(s->s.e,trace1)\n",
    "    n1_arr = map(s->s.n,trace1)\n",
    "    e2_arr = map(s->s.e,trace2)\n",
    "    n2_arr = map(s->s.n,trace2)\n",
    "\n",
    "    min_e1, max_e1 = extrema(e1_arr)\n",
    "    min_n1, max_n1 = extrema(n1_arr)\n",
    "    min_e2, max_e2 = extrema(e2_arr)\n",
    "    min_n2, max_n2 = extrema(n2_arr)\n",
    "\n",
    "    max_e = max(max_e1, max_e2)\n",
    "    max_n = max(max_n1, max_n2)\n",
    "    min_e = min(min_e1, min_e2)\n",
    "    min_n = min(min_n1, min_n2)\n",
    "\n",
    "    w = max(abs(max_e), abs(min_e), abs(max_n), abs(min_n)) + 500\n",
    "\n",
    "    p1 = plot(Vector{Float64}[e1_arr, e2_arr],\n",
    "              Vector{Float64}[n1_arr, n2_arr],\n",
    "              xlabel=\"East (ft)\", ylabel=\"North (ft)\", palette=palette, linewidth=4, xlims=(-w,w), ylims=(-w,w))\n",
    "    \n",
    "    # initial positions\n",
    "    scatter!(p1, Vector{Float64}[Float64[trace1[1].e], Float64[trace2[1].e]],\n",
    "                 Vector{Float64}[Float64[trace1[1].n], Float64[trace2[1].n]])\n",
    "    \n",
    "    ################\n",
    "    # YOUR CODE HERE\n",
    "    \n",
    "    # compute the minimum 3D separation distance between aircraft\n",
    "    # and the index at which it occurs\n",
    "    minimum_distance = Inf\n",
    "    index_at_min_dist = 0\n",
    "    \n",
    "    ################\n",
    "    \n",
    "    i = index_at_min_dist\n",
    "    d = minimum_distance\n",
    "    \n",
    "    p2 = plot(Vector{Float64}[t_arr, t_arr],\n",
    "              Vector{Float64}[map(s->s.h,trace1), map(s->s.h,trace2)],\n",
    "              xlabel=\"Time (s)\", ylabel=\"Altitude (ft)\", leg=false, palette=palette, linewidth=4,\n",
    "              annotations=(i,(trace1[i].h+trace2[i].h)/2, Plots.text(@sprintf(\"mid dist: %.0f ft\", d))))\n",
    " \n",
    "    plot!(p1, [trace1[i].e, trace2[i].e], [trace1[i].n, trace2[i].n], color=colorant\"0xFF007F\", linewidth=4)\n",
    "    plot!(p2, [(i-1)*enc.Δt,(i-1)*enc.Δt], [trace1[i].h, trace2[i].h], color=colorant\"0xFF007F\", linewidth=4)\n",
    "\n",
    "    plot(p1, p2, size=(950,400))\n",
    "end"
   ]
  },
  {
   "cell_type": "code",
   "execution_count": 24,
   "metadata": {
    "collapsed": false
   },
   "outputs": [],
   "source": [
    "# enc = pull_encounter(initial, traces, 1)\n",
    "# plot_encounter(enc)"
   ]
  },
  {
   "cell_type": "code",
   "execution_count": 25,
   "metadata": {
    "collapsed": false
   },
   "outputs": [],
   "source": [
    "# enc = pull_encounter(initial, traces, 2)\n",
    "# plot_encounter(enc)"
   ]
  },
  {
   "cell_type": "code",
   "execution_count": 26,
   "metadata": {
    "collapsed": false
   },
   "outputs": [],
   "source": [
    "# enc = pull_encounter(initial, traces, 3)\n",
    "# plot_encounter(enc)"
   ]
  },
  {
   "cell_type": "markdown",
   "metadata": {},
   "source": [
    "### Propose an Encounter Model\n",
    "\n",
    "Now that you are familiar with the Probabilistic Models discussed in class (and described in section 2.1 of DMU), you will propose an encounter model. Your model should be designed such that you can sample from it and produce initial positions for each aircraft. Your model should also support propagating the aircraft forward - ie, describe how the encounter changes over time from the initial setup.\n",
    "\n",
    "You must explain the reasoning behind your decision, how it captures the initial and transition distributions, and how it can be learned from large initial and transition data tables."
   ]
  }
 ],
 "metadata": {
  "anaconda-cloud": {},
  "kernelspec": {
   "display_name": "Julia 0.5.0",
   "language": "julia",
   "name": "julia-0.5"
  },
  "language_info": {
   "file_extension": ".jl",
   "mimetype": "application/julia",
   "name": "julia",
   "version": "0.5.0"
  }
 },
 "nbformat": 4,
 "nbformat_minor": 0
}
