{
 "cells": [
  {
   "cell_type": "markdown",
   "metadata": {},
   "source": [
    "# Week 3 Assignment - Encounter Plotting"
   ]
  },
  {
   "cell_type": "markdown",
   "metadata": {},
   "source": [
    "Your task is to:\n",
    "\n",
    "1.  Load example aircraft tracks from a file and plot them.\n",
    "2.  Propose a statistical model for capturing features from the data.\n",
    "\n",
    "Turn in your final Julia notebook file (.ipynb) on Coursework for part (1) and a document describing your proposed statistical model for part (2) to coursework."
   ]
  },
  {
   "cell_type": "markdown",
   "metadata": {},
   "source": [
    "### Aircraft Tracks\n",
    "\n",
    "![Encounter](figures/encounter_plot.png)\n",
    "\n",
    "An airspace encounter consists of two components - the initial conditions and the transitions over time.\n",
    "One file is provided for each.\n",
    "\n",
    "The data file, [`flights.txt`](http://web.stanford.edu/class/aa120q/data/transition_small.txt), contains a table with the following columns:\n",
    "\n",
    "| Variable | Type | Description |\n",
    "| -------- |:----:| ----------- |\n",
    "| **id**                  | Int   | trace id, same as in `initial.txt`    |\n",
    "| **t**                   | Int   | time in 1s intervals from 0 to 50    |\n",
    "| **x1**       | Float  | position along x-axis |  **x2**       | Float  | position along x-axis |\n",
    "| **y1**      | Float  | position along y-axis |  **y2**      | Float  | position along y-axis |\n",
    "| **u1**                  | Float   | airplane 1 vertical speed [m/s] | **u2**                  | Float   | airplane 2 vertical speed [m/s]   |\n",
    "| **v1**                  | Float   | airplane 1 horizontal speed [m/s]  | **v2**                  | Float   | airplane 2 horizontal speed [m/s]    |"
   ]
  },
  {
   "cell_type": "markdown",
   "metadata": {},
   "source": [
    "Write a program to load these trajectories and plot them.\n",
    "\n",
    "1.  Your algorithm must be implemented from scratch in Julia.\n",
    "2.  Although you may discuss your algorithm with others, you must not share code.\n",
    "\n",
    "Directions\n",
    "\n",
    "* Implement `pull_encounter` to load a specific `Encounter` from initial and transition\n",
    "* Modify `plot_encounter` to indicate the location of minimim separation"
   ]
  },
  {
   "cell_type": "markdown",
   "metadata": {},
   "source": [
    "# Milestone One: Implement Pull_Encounter"
   ]
  },
  {
   "cell_type": "markdown",
   "metadata": {},
   "source": [
    "Your task is to implement the **pull_encounter(flights::DataFrame, id::Int)**. Pull_encounter is a function that takes in two parameters, the DataFrame that stores the transitions over time and the trace id. This function will prepare an \"Encounter\" data structure for plotting, by initializing an array of 51 EncounterStates that reveals the AircraftState of both airplanes at eaach second in the 51 second time interval. "
   ]
  },
  {
   "cell_type": "markdown",
   "metadata": {},
   "source": [
    "## Data Structures"
   ]
  },
  {
   "cell_type": "markdown",
   "metadata": {},
   "source": [
    "### DataFrames"
   ]
  },
  {
   "cell_type": "markdown",
   "metadata": {},
   "source": [
    "Remember that an airplane encounter consists of the initial conditions and the transitions over time. To implement Pull_Encounter, you will be given one data frame EncounterState, that stores the states of both aircraft over each second of the time interval. You will need to load an array with the values of both aircraft states."
   ]
  },
  {
   "cell_type": "markdown",
   "metadata": {},
   "source": [
    "#### Inital Conditions DataFrame"
   ]
  },
  {
   "cell_type": "code",
   "execution_count": 1,
   "metadata": {
    "scrolled": true
   },
   "outputs": [
    {
     "data": {
      "text/html": [
       "<table class=\"data-frame\"><thead><tr><th></th><th>id</th><th>A</th><th>C1</th><th>C2</th></tr></thead><tbody><tr><th>1</th><td>1</td><td>4</td><td>2</td><td>2</td></tr><tr><th>2</th><td>2</td><td>4</td><td>2</td><td>2</td></tr><tr><th>3</th><td>3</td><td>2</td><td>2</td><td>2</td></tr></tbody></table>"
      ],
      "text/plain": [
       "3×4 DataFrames.DataFrame\n",
       "│ Row │ id │ A │ C1 │ C2 │\n",
       "├─────┼────┼───┼────┼────┤\n",
       "│ 1   │ 1  │ 4 │ 2  │ 2  │\n",
       "│ 2   │ 2  │ 4 │ 2  │ 2  │\n",
       "│ 3   │ 3  │ 2 │ 2  │ 2  │"
      ]
     },
     "execution_count": 1,
     "metadata": {},
     "output_type": "execute_result"
    }
   ],
   "source": [
    "# Load initial.txt as a DataFrame\n",
    "using DataFrames\n",
    "flights = readtable(Pkg.dir(\"AA120Q\", \"data\", \"flights.txt\")) #edit txt file\n",
    "flights[1:3,:]"
   ]
  },
  {
   "cell_type": "markdown",
   "metadata": {},
   "source": [
    "### Types"
   ]
  },
  {
   "cell_type": "markdown",
   "metadata": {},
   "source": [
    "#### `AircraftState`"
   ]
  },
  {
   "cell_type": "markdown",
   "metadata": {},
   "source": [
    "This is a type which describes the aircraft state. You will need to create air craft states for each time step given by the data set above. "
   ]
  },
  {
   "cell_type": "code",
   "execution_count": 1,
   "metadata": {
    "collapsed": true
   },
   "outputs": [],
   "source": [
    "struct AircraftState\n",
    "    x::Float64  # horizontal position [m]\n",
    "    y::Float64  # veritcal position   [m]\n",
    "    u::Float64  # vertical speed      [m/s]\n",
    "    v::Float64  # horizontal speed    [m/s]\n",
    "end"
   ]
  },
  {
   "cell_type": "markdown",
   "metadata": {},
   "source": [
    "#### `EncounterState` "
   ]
  },
  {
   "cell_type": "markdown",
   "metadata": {},
   "source": [
    "This is a type which describes an encounter between two aircraft by defining the two aircrafts's current state at the given time interval. This is the data structure that you will need to initialize in pull_encoutner."
   ]
  },
  {
   "cell_type": "code",
   "execution_count": 2,
   "metadata": {},
   "outputs": [
    {
     "ename": "LoadError",
     "evalue": "syntax: extra token \"EncounterState\" after end of expression",
     "output_type": "error",
     "traceback": [
      "syntax: extra token \"EncounterState\" after end of expression",
      ""
     ]
    }
   ],
   "source": [
    "mutable struct EncounterState\n",
    "    plane1::AircraftState\n",
    "    plane2::AircraftState\n",
    "    t::Float64\n",
    "end\n",
    "const Trajectory = Vector{EncounterState}"
   ]
  },
  {
   "cell_type": "markdown",
   "metadata": {},
   "source": [
    "## Load the Data into Arrays:"
   ]
  },
  {
   "cell_type": "markdown",
   "metadata": {},
   "source": [
    "This function will prepare an \"Encounter\" data structure for plotting (see below),by initializing the aircraft traces (trace1, trace2) into arrays of 51 elements, one for each time step. You can define an array and then load the EncountrerState into the array one at a time for each time interval."
   ]
  },
  {
   "cell_type": "markdown",
   "metadata": {},
   "source": [
    "**Tips:**\n",
    "- Define an empty array and fill it with append() \n",
    "- You can use a for loop to define the aircraft states at each time step\n",
    "- Δt is always 1 second"
   ]
  },
  {
   "cell_type": "markdown",
   "metadata": {},
   "source": [
    "### Starter Code:"
   ]
  },
  {
   "cell_type": "code",
   "execution_count": 1,
   "metadata": {},
   "outputs": [
    {
     "ename": "LoadError",
     "evalue": "\u001b[91mUndefVarError: DataFrame not defined\u001b[39m",
     "output_type": "error",
     "traceback": [
      "\u001b[91mUndefVarError: DataFrame not defined\u001b[39m",
      ""
     ]
    }
   ],
   "source": [
    "function pull_encounter(flights::DataFrame, id::Int)\n",
    "    \n",
    "    #####################################\n",
    "    # To do: Implement the pull_encounter function by initializing the aircraft traces \n",
    "    \n",
    "    # - Go through data set at each time interval and create an EncounterState\n",
    "    # - Use a for loop to populate the vector of trajectories with EncounterStates  \n",
    "    #####################################\n",
    "    \n",
    "    Trajectory\n",
    "end"
   ]
  },
  {
   "cell_type": "markdown",
   "metadata": {},
   "source": [
    "## Milestone 2: Implement Plot_Encounter"
   ]
  },
  {
   "cell_type": "markdown",
   "metadata": {},
   "source": [
    "Now that you have the encounters loaded into an array you can graphically display the encounters which we will do for you with the code and result below: "
   ]
  },
  {
   "cell_type": "code",
   "execution_count": 3,
   "metadata": {},
   "outputs": [
    {
     "ename": "LoadError",
     "evalue": "\u001b[91msyntax: missing comma or ) in argument list\u001b[39m",
     "output_type": "error",
     "traceback": [
      "\u001b[91msyntax: missing comma or ) in argument list\u001b[39m",
      ""
     ]
    }
   ],
   "source": [
    "using Plots\n",
    "plotlyjs() # use the PlotlyJS backend\n",
    "\n",
    "function plot_encounter(traj::Trajectory)   \n",
    "    p1_x = map(s->s.plane1.x, traj)\n",
    "    p1_y = map(s->s.plane1.y, traj)\n",
    "    \n",
    "    p2_x = map(s->s.plane2.x, traj)\n",
    "    p2_y = map(s->s.plane2.y, traj)\n",
    "    \n",
    "    p1 = plot(Vector{Float64}[p1_x, p2_x],\n",
    "              Vector{Float64}[p1_y, p2_y]\n",
    "              xlabel=\"X-Position (m)\", ylabel=\"Y-Position (m)\", palette=palette, linewidth=4, \n",
    "              xlims=(-w,w), ylims=(-w,w)))\n",
    "\n",
    "    plot(p1,size=(950,400))\n",
    "end"
   ]
  },
  {
   "cell_type": "markdown",
   "metadata": {},
   "source": [
    "### Image of graph"
   ]
  },
  {
   "cell_type": "markdown",
   "metadata": {},
   "source": [
    "From this code, we want you to make some changes to instead plot a separation vs. time graph of the two aircrafts instead an y-position vs. x-position graph of both aircraft as we did in the example. To implement the separation vs. time graph, we would like you to plot three lines:\n",
    "\n",
    "1. The total seperation \n",
    "2. X-position separation ($\\Delta x$)\n",
    "3. Y-position separation ($\\Delta y$)\n",
    "\n",
    "Where the total separation is given by $\\sqrt{\\Delta x^2 + \\Delta y^2}$. "
   ]
  },
  {
   "cell_type": "markdown",
   "metadata": {},
   "source": [
    "### Starter Code:"
   ]
  },
  {
   "cell_type": "code",
   "execution_count": 4,
   "metadata": {},
   "outputs": [
    {
     "ename": "LoadError",
     "evalue": "\u001b[91mUndefVarError: Trajectory not defined\u001b[39m",
     "output_type": "error",
     "traceback": [
      "\u001b[91mUndefVarError: Trajectory not defined\u001b[39m",
      ""
     ]
    }
   ],
   "source": [
    "using Plots\n",
    "plotlyjs() # use the PlotlyJS backend\n",
    "\n",
    "function plot_separation(traj::Trajectory)\n",
    "    p1 = #total separation \n",
    "    \n",
    "    p2 = #x-position separation \n",
    "    \n",
    "    p3 = #y-position separation\n",
    "\n",
    "    plot(p1, p2, p3, size=(950,400))\n",
    "end"
   ]
  },
  {
   "cell_type": "markdown",
   "metadata": {},
   "source": [
    "## Your final function should produce the following outcomes: "
   ]
  },
  {
   "cell_type": "code",
   "execution_count": 5,
   "metadata": {},
   "outputs": [
    {
     "ename": "LoadError",
     "evalue": "\u001b[91mUndefVarError: flights not defined\u001b[39m",
     "output_type": "error",
     "traceback": [
      "\u001b[91mUndefVarError: flights not defined\u001b[39m",
      ""
     ]
    }
   ],
   "source": [
    "traj = pull_encounter(flights, 1)\n",
    "plot_encounter(traj)\n",
    "plot_separation(traj)"
   ]
  },
  {
   "cell_type": "markdown",
   "metadata": {},
   "source": [
    "This should produce:\n",
    "![Encounter](figures/enc1.png)"
   ]
  },
  {
   "cell_type": "markdown",
   "metadata": {},
   "source": [
    "### Propose an Encounter Model\n",
    "\n",
    "Now that you are familiar with the Probabilistic Models discussed in class (and described in section 2.1 of DMU), you will propose an encounter model. Your model should be designed such that you can sample from it and produce initial positions for each aircraft. Your model should also support propagating the aircraft forward - ie, describe how the encounter changes over time from the initial setup.\n",
    "\n",
    "You must explain the reasoning behind your decision, how it captures the initial and transition distributions, and how it can be learned from large initial and transition data tables."
   ]
  }
 ],
 "metadata": {
  "anaconda-cloud": {},
  "kernelspec": {
   "display_name": "Julia 0.6.0",
   "language": "julia",
   "name": "julia-0.6"
  },
  "language_info": {
   "file_extension": ".jl",
   "mimetype": "application/julia",
   "name": "julia",
   "version": "0.6.0"
  }
 },
 "nbformat": 4,
 "nbformat_minor": 1
}
